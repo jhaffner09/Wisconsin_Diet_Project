{
 "cells": [
  {
   "cell_type": "code",
   "execution_count": 1,
   "id": "bedcc8a9",
   "metadata": {},
   "outputs": [],
   "source": [
    "###Loading in necessary packages\n",
    "import pandas as pd"
   ]
  },
  {
   "cell_type": "code",
   "execution_count": 2,
   "id": "91646a49",
   "metadata": {},
   "outputs": [],
   "source": [
    "###Set working directory\n",
    "DIR=\"E:/McCall_Lab/Wisconsin_Gut_Microbiome_Project/Microbiota_DepletedElevated_COMBINED/Kruskal-Wallis_Tests/Cecum/Files_for_Upset_plot/Python_formatting\""
   ]
  },
  {
   "cell_type": "code",
   "execution_count": 3,
   "id": "a539c607",
   "metadata": {},
   "outputs": [],
   "source": [
    "###Loading in our sample group file. Data are from Kruskal-Wallis output\n",
    "###of our cecum data. 36 columns total, one for each of our compared\n",
    "###sample groups. Rows within each column represent metabolite features\n",
    "###present within that sample group. Each column has a different length\n",
    "###and ordering for their respective metabolite features present.\n",
    "filea=\"Cecum_KW_Output_Fch_noNAs_filtered_for_Upset_Plot.csv\""
   ]
  },
  {
   "cell_type": "code",
   "execution_count": 4,
   "id": "4e38b21f",
   "metadata": {},
   "outputs": [],
   "source": [
    "###Loading in our list of total annotations. There are 1888 total metabolite\n",
    "###features. All are present in at least one of our sample groups (previous\n",
    "###file), but are not present in every sample group. We need this\n",
    "###master list for searching within our sample groups to create\n",
    "###the colored Upset plots.\n",
    "fileb=\"Matches(Completed)_Cecum_Combined_fromKW_wMolNetEnhancer.csv\""
   ]
  },
  {
   "cell_type": "code",
   "execution_count": 5,
   "id": "cbf69416",
   "metadata": {},
   "outputs": [],
   "source": [
    "###Creating a data frame from our sample groups file without row names\n",
    "df=pd.read_csv('%s/%s' % (DIR, filea), sep=',', index_col=False)"
   ]
  },
  {
   "cell_type": "code",
   "execution_count": 6,
   "id": "57ee9a18",
   "metadata": {},
   "outputs": [],
   "source": [
    "###Making a list from the sample groups\n",
    "subj=list(df.columns)"
   ]
  },
  {
   "cell_type": "code",
   "execution_count": 8,
   "id": "a7ddd147",
   "metadata": {},
   "outputs": [],
   "source": [
    "###Now making a data frame from the list of metabolite features\n",
    "dfb=pd.read_csv('%s/%s' % (DIR,fileb), sep=',',index_col=False)"
   ]
  },
  {
   "cell_type": "code",
   "execution_count": 9,
   "id": "e2aa1c96",
   "metadata": {},
   "outputs": [],
   "source": [
    "###Creating just a list of the features in the previously-identified column \n",
    "features=list(dfb.features)"
   ]
  },
  {
   "cell_type": "code",
   "execution_count": 10,
   "id": "8b9a1398",
   "metadata": {},
   "outputs": [],
   "source": [
    "###Making an empty data frame with our sample groups as columns and\n",
    "###features as row names\n",
    "dfbig=pd.DataFrame(columns=subj,index=features)"
   ]
  },
  {
   "cell_type": "code",
   "execution_count": 11,
   "id": "714e6879",
   "metadata": {},
   "outputs": [],
   "source": [
    "###With that data frame made, now we need to search for each of the\n",
    "###metabolite features within each sample group and indicate if they\n",
    "###are present in each respective column. "
   ]
  },
  {
   "cell_type": "code",
   "execution_count": 12,
   "id": "d806d03a",
   "metadata": {},
   "outputs": [],
   "source": [
    "###To do this, we'll iterate over the previous data frame. 'a' is the\n",
    "###columns, 'b' is the data frame for each column. To get the value\n",
    "###of each cell for 'b', we'll loop through the entire contents of 'b'.\n",
    "###Importantly, to ignore 'nan' instances, we'll need to convert to a \n",
    "###string format. Lastly, we'll change the matching values to 'yes'.\n",
    "for a,b in df.iteritems():\n",
    "    for i in b:\n",
    "        if str(i) != 'nan':\n",
    "            dfbig.at[i,a]='yes'"
   ]
  },
  {
   "cell_type": "code",
   "execution_count": 13,
   "id": "f664eb0a",
   "metadata": {},
   "outputs": [],
   "source": [
    "###Can make outputs of our list with each item on a new line\n",
    "with open('%s/FeatureList.txt' % DIR,'w') as x:\n",
    "    for l in features:\n",
    "        x.write('%s\\n' % l)"
   ]
  },
  {
   "cell_type": "code",
   "execution_count": 14,
   "id": "887b7f3d",
   "metadata": {},
   "outputs": [],
   "source": [
    "###Can also read in a file with a list of items so each item is a new\n",
    "###line in the list variable.\n",
    "lis=[x for x in open('%s/FeatureList.txt' %DIR,'r').readlines()]"
   ]
  },
  {
   "cell_type": "code",
   "execution_count": 15,
   "id": "c9c616e9",
   "metadata": {},
   "outputs": [],
   "source": [
    "###Last, output our data frame to a csv so our row and header values\n",
    "###are included without the indexing column.\n",
    "with open('%s/OurDataFrame.csv' %DIR, 'w') as o:\n",
    "    dfbig.to_csv(o,sep=',')"
   ]
  },
  {
   "cell_type": "code",
   "execution_count": null,
   "id": "7033cda5",
   "metadata": {},
   "outputs": [],
   "source": []
  }
 ],
 "metadata": {
  "kernelspec": {
   "display_name": "Python 3 (ipykernel)",
   "language": "python",
   "name": "python3"
  },
  "language_info": {
   "codemirror_mode": {
    "name": "ipython",
    "version": 3
   },
   "file_extension": ".py",
   "mimetype": "text/x-python",
   "name": "python",
   "nbconvert_exporter": "python",
   "pygments_lexer": "ipython3",
   "version": "3.9.7"
  }
 },
 "nbformat": 4,
 "nbformat_minor": 5
}
