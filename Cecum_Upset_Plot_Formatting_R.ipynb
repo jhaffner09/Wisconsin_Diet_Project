{
 "cells": [
  {
   "cell_type": "code",
   "execution_count": 1,
   "id": "c841428c",
   "metadata": {},
   "outputs": [],
   "source": [
    "###The following code is best for small sample groups because it needs\n",
    "###to be run independently on each sample group. Everything still works\n",
    "###with large sample group numbers, but it's more convenient for smaller\n",
    "###group numbers. \n",
    "\n",
    "\n",
    "###First, we'll load in the list of metabolite features\n",
    "anno <- read.csv(\"Matches(Completed)_Cecum_Combined_fromKW_wMolNetEnhancer.csv\")"
   ]
  },
  {
   "cell_type": "code",
   "execution_count": 2,
   "id": "c62ec158",
   "metadata": {},
   "outputs": [
    {
     "data": {
      "text/html": [
       "<style>\n",
       ".list-inline {list-style: none; margin:0; padding: 0}\n",
       ".list-inline>li {display: inline-block}\n",
       ".list-inline>li:not(:last-child)::after {content: \"\\00b7\"; padding: 0 .5ex}\n",
       "</style>\n",
       "<ol class=list-inline><li>1888</li><li>18</li></ol>\n"
      ],
      "text/latex": [
       "\\begin{enumerate*}\n",
       "\\item 1888\n",
       "\\item 18\n",
       "\\end{enumerate*}\n"
      ],
      "text/markdown": [
       "1. 1888\n",
       "2. 18\n",
       "\n",
       "\n"
      ],
      "text/plain": [
       "[1] 1888   18"
      ]
     },
     "metadata": {},
     "output_type": "display_data"
    },
    {
     "data": {
      "text/html": [
       "<table class=\"dataframe\">\n",
       "<caption>A data.frame: 6 × 18</caption>\n",
       "<thead>\n",
       "\t<tr><th></th><th scope=col>Cluster.Index</th><th scope=col>features</th><th scope=col>M.Z</th><th scope=col>RT</th><th scope=col>Annotation</th><th scope=col>Cosine.Score</th><th scope=col>No..of.Shared.Peaks</th><th scope=col>Mass.Diff..to.Library.Reference</th><th scope=col>ppm.error</th><th scope=col>Analog.</th><th scope=col>Nearest.Neighbors</th><th scope=col>Proximity</th><th scope=col>CF_class</th><th scope=col>CF_Dparent</th><th scope=col>CF_kingdom</th><th scope=col>CF_MFramework</th><th scope=col>CF_subclass</th><th scope=col>CF_superclass</th></tr>\n",
       "\t<tr><th></th><th scope=col>&lt;int&gt;</th><th scope=col>&lt;chr&gt;</th><th scope=col>&lt;dbl&gt;</th><th scope=col>&lt;dbl&gt;</th><th scope=col>&lt;chr&gt;</th><th scope=col>&lt;dbl&gt;</th><th scope=col>&lt;int&gt;</th><th scope=col>&lt;dbl&gt;</th><th scope=col>&lt;dbl&gt;</th><th scope=col>&lt;chr&gt;</th><th scope=col>&lt;chr&gt;</th><th scope=col>&lt;chr&gt;</th><th scope=col>&lt;chr&gt;</th><th scope=col>&lt;chr&gt;</th><th scope=col>&lt;chr&gt;</th><th scope=col>&lt;chr&gt;</th><th scope=col>&lt;chr&gt;</th><th scope=col>&lt;chr&gt;</th></tr>\n",
       "</thead>\n",
       "<tbody>\n",
       "\t<tr><th scope=row>1</th><td> 48</td><td>X373.2721_2.67_48 </td><td>373.2721</td><td>2.67</td><td>URSOCHOLIC ACID                                      </td><td>0.846769</td><td>15</td><td>5.30489e+01</td><td>1.24434e+05</td><td>Yes</td><td>Spectral Match to Cholic acid from NIST14            </td><td>First       </td><td>Steroids and steroid derivatives</td><td>Cholesterols and derivatives                    </td><td>Organic compounds</td><td>Aliphatic homopolycyclic compounds  </td><td>Cholestane steroids                      </td><td>Lipids and lipid-like molecules</td></tr>\n",
       "\t<tr><th scope=row>2</th><td> 51</td><td>X520.3385_2.86_51 </td><td>520.3385</td><td>2.86</td><td>Massbank:PR310844 LPC 18:2                           </td><td>0.788289</td><td> 6</td><td>2.50244e-03</td><td>4.80923e+00</td><td>No </td><td>Massbank:PR310841 LPC 18:3                           </td><td>First       </td><td>Glycerophospholipids            </td><td>1-acyl-sn-glycero-3-phosphocholines             </td><td>Organic compounds</td><td>Aliphatic acyclic compounds         </td><td>Glycerophosphocholines                   </td><td>Lipids and lipid-like molecules</td></tr>\n",
       "\t<tr><th scope=row>3</th><td>142</td><td>X355.2615_2.67_142</td><td>355.2615</td><td>2.67</td><td>Spectral Match to Cholic acid from NIST14            </td><td>0.739535</td><td>14</td><td>1.49536e-03</td><td>4.20917e+00</td><td>No </td><td>URSOCHOLIC ACID                                      </td><td>First Analog</td><td>Steroids and steroid derivatives</td><td>Cholesterols and derivatives                    </td><td>Organic compounds</td><td>Aliphatic homopolycyclic compounds  </td><td>Cholestane steroids                      </td><td>Lipids and lipid-like molecules</td></tr>\n",
       "\t<tr><th scope=row>4</th><td>198</td><td>X527.1573_0.25_198</td><td>527.1573</td><td>0.25</td><td>RAFFINOSE                                            </td><td>0.924812</td><td> 5</td><td>7.32422e-04</td><td>1.38938e+00</td><td>No </td><td>STACHYOSE                                            </td><td>First       </td><td>Organooxygen compounds          </td><td>Oligosaccharides                                </td><td>Organic compounds</td><td>Aliphatic heteromonocyclic compounds</td><td>Carbohydrates and carbohydrate conjugates</td><td>Organic oxygen compounds       </td></tr>\n",
       "\t<tr><th scope=row>5</th><td>203</td><td>X391.2826_2.78_203</td><td>391.2826</td><td>2.78</td><td>Spectral Match to 12-Ketodeoxycholic acid from NIST14</td><td>0.822746</td><td>16</td><td>1.40381e-03</td><td>3.58770e+00</td><td>No </td><td>Spectral Match to 12-Ketodeoxycholic acid from NIST14</td><td>First Analog</td><td>Steroids and steroid derivatives</td><td>Monohydroxy bile acids, alcohols and derivatives</td><td>Organic compounds</td><td>Aliphatic homopolycyclic compounds  </td><td>Bile acids, alcohols and derivatives     </td><td>Lipids and lipid-like molecules</td></tr>\n",
       "\t<tr><th scope=row>6</th><td>360</td><td>X689.2088_0.25_360</td><td>689.2088</td><td>0.25</td><td>STACHYOSE                                            </td><td>0.904611</td><td> 8</td><td>2.19727e-03</td><td>3.18809e+00</td><td>No </td><td>RAFFINOSE                                            </td><td>First       </td><td>Organooxygen compounds          </td><td>Oligosaccharides                                </td><td>Organic compounds</td><td>Aliphatic heteromonocyclic compounds</td><td>Carbohydrates and carbohydrate conjugates</td><td>Organic oxygen compounds       </td></tr>\n",
       "</tbody>\n",
       "</table>\n"
      ],
      "text/latex": [
       "A data.frame: 6 × 18\n",
       "\\begin{tabular}{r|llllllllllllllllll}\n",
       "  & Cluster.Index & features & M.Z & RT & Annotation & Cosine.Score & No..of.Shared.Peaks & Mass.Diff..to.Library.Reference & ppm.error & Analog. & Nearest.Neighbors & Proximity & CF\\_class & CF\\_Dparent & CF\\_kingdom & CF\\_MFramework & CF\\_subclass & CF\\_superclass\\\\\n",
       "  & <int> & <chr> & <dbl> & <dbl> & <chr> & <dbl> & <int> & <dbl> & <dbl> & <chr> & <chr> & <chr> & <chr> & <chr> & <chr> & <chr> & <chr> & <chr>\\\\\n",
       "\\hline\n",
       "\t1 &  48 & X373.2721\\_2.67\\_48  & 373.2721 & 2.67 & URSOCHOLIC ACID                                       & 0.846769 & 15 & 5.30489e+01 & 1.24434e+05 & Yes & Spectral Match to Cholic acid from NIST14             & First        & Steroids and steroid derivatives & Cholesterols and derivatives                     & Organic compounds & Aliphatic homopolycyclic compounds   & Cholestane steroids                       & Lipids and lipid-like molecules\\\\\n",
       "\t2 &  51 & X520.3385\\_2.86\\_51  & 520.3385 & 2.86 & Massbank:PR310844 LPC 18:2                            & 0.788289 &  6 & 2.50244e-03 & 4.80923e+00 & No  & Massbank:PR310841 LPC 18:3                            & First        & Glycerophospholipids             & 1-acyl-sn-glycero-3-phosphocholines              & Organic compounds & Aliphatic acyclic compounds          & Glycerophosphocholines                    & Lipids and lipid-like molecules\\\\\n",
       "\t3 & 142 & X355.2615\\_2.67\\_142 & 355.2615 & 2.67 & Spectral Match to Cholic acid from NIST14             & 0.739535 & 14 & 1.49536e-03 & 4.20917e+00 & No  & URSOCHOLIC ACID                                       & First Analog & Steroids and steroid derivatives & Cholesterols and derivatives                     & Organic compounds & Aliphatic homopolycyclic compounds   & Cholestane steroids                       & Lipids and lipid-like molecules\\\\\n",
       "\t4 & 198 & X527.1573\\_0.25\\_198 & 527.1573 & 0.25 & RAFFINOSE                                             & 0.924812 &  5 & 7.32422e-04 & 1.38938e+00 & No  & STACHYOSE                                             & First        & Organooxygen compounds           & Oligosaccharides                                 & Organic compounds & Aliphatic heteromonocyclic compounds & Carbohydrates and carbohydrate conjugates & Organic oxygen compounds       \\\\\n",
       "\t5 & 203 & X391.2826\\_2.78\\_203 & 391.2826 & 2.78 & Spectral Match to 12-Ketodeoxycholic acid from NIST14 & 0.822746 & 16 & 1.40381e-03 & 3.58770e+00 & No  & Spectral Match to 12-Ketodeoxycholic acid from NIST14 & First Analog & Steroids and steroid derivatives & Monohydroxy bile acids, alcohols and derivatives & Organic compounds & Aliphatic homopolycyclic compounds   & Bile acids, alcohols and derivatives      & Lipids and lipid-like molecules\\\\\n",
       "\t6 & 360 & X689.2088\\_0.25\\_360 & 689.2088 & 0.25 & STACHYOSE                                             & 0.904611 &  8 & 2.19727e-03 & 3.18809e+00 & No  & RAFFINOSE                                             & First        & Organooxygen compounds           & Oligosaccharides                                 & Organic compounds & Aliphatic heteromonocyclic compounds & Carbohydrates and carbohydrate conjugates & Organic oxygen compounds       \\\\\n",
       "\\end{tabular}\n"
      ],
      "text/markdown": [
       "\n",
       "A data.frame: 6 × 18\n",
       "\n",
       "| <!--/--> | Cluster.Index &lt;int&gt; | features &lt;chr&gt; | M.Z &lt;dbl&gt; | RT &lt;dbl&gt; | Annotation &lt;chr&gt; | Cosine.Score &lt;dbl&gt; | No..of.Shared.Peaks &lt;int&gt; | Mass.Diff..to.Library.Reference &lt;dbl&gt; | ppm.error &lt;dbl&gt; | Analog. &lt;chr&gt; | Nearest.Neighbors &lt;chr&gt; | Proximity &lt;chr&gt; | CF_class &lt;chr&gt; | CF_Dparent &lt;chr&gt; | CF_kingdom &lt;chr&gt; | CF_MFramework &lt;chr&gt; | CF_subclass &lt;chr&gt; | CF_superclass &lt;chr&gt; |\n",
       "|---|---|---|---|---|---|---|---|---|---|---|---|---|---|---|---|---|---|---|\n",
       "| 1 |  48 | X373.2721_2.67_48  | 373.2721 | 2.67 | URSOCHOLIC ACID                                       | 0.846769 | 15 | 5.30489e+01 | 1.24434e+05 | Yes | Spectral Match to Cholic acid from NIST14             | First        | Steroids and steroid derivatives | Cholesterols and derivatives                     | Organic compounds | Aliphatic homopolycyclic compounds   | Cholestane steroids                       | Lipids and lipid-like molecules |\n",
       "| 2 |  51 | X520.3385_2.86_51  | 520.3385 | 2.86 | Massbank:PR310844 LPC 18:2                            | 0.788289 |  6 | 2.50244e-03 | 4.80923e+00 | No  | Massbank:PR310841 LPC 18:3                            | First        | Glycerophospholipids             | 1-acyl-sn-glycero-3-phosphocholines              | Organic compounds | Aliphatic acyclic compounds          | Glycerophosphocholines                    | Lipids and lipid-like molecules |\n",
       "| 3 | 142 | X355.2615_2.67_142 | 355.2615 | 2.67 | Spectral Match to Cholic acid from NIST14             | 0.739535 | 14 | 1.49536e-03 | 4.20917e+00 | No  | URSOCHOLIC ACID                                       | First Analog | Steroids and steroid derivatives | Cholesterols and derivatives                     | Organic compounds | Aliphatic homopolycyclic compounds   | Cholestane steroids                       | Lipids and lipid-like molecules |\n",
       "| 4 | 198 | X527.1573_0.25_198 | 527.1573 | 0.25 | RAFFINOSE                                             | 0.924812 |  5 | 7.32422e-04 | 1.38938e+00 | No  | STACHYOSE                                             | First        | Organooxygen compounds           | Oligosaccharides                                 | Organic compounds | Aliphatic heteromonocyclic compounds | Carbohydrates and carbohydrate conjugates | Organic oxygen compounds        |\n",
       "| 5 | 203 | X391.2826_2.78_203 | 391.2826 | 2.78 | Spectral Match to 12-Ketodeoxycholic acid from NIST14 | 0.822746 | 16 | 1.40381e-03 | 3.58770e+00 | No  | Spectral Match to 12-Ketodeoxycholic acid from NIST14 | First Analog | Steroids and steroid derivatives | Monohydroxy bile acids, alcohols and derivatives | Organic compounds | Aliphatic homopolycyclic compounds   | Bile acids, alcohols and derivatives      | Lipids and lipid-like molecules |\n",
       "| 6 | 360 | X689.2088_0.25_360 | 689.2088 | 0.25 | STACHYOSE                                             | 0.904611 |  8 | 2.19727e-03 | 3.18809e+00 | No  | RAFFINOSE                                             | First        | Organooxygen compounds           | Oligosaccharides                                 | Organic compounds | Aliphatic heteromonocyclic compounds | Carbohydrates and carbohydrate conjugates | Organic oxygen compounds        |\n",
       "\n"
      ],
      "text/plain": [
       "  Cluster.Index features           M.Z      RT  \n",
       "1  48           X373.2721_2.67_48  373.2721 2.67\n",
       "2  51           X520.3385_2.86_51  520.3385 2.86\n",
       "3 142           X355.2615_2.67_142 355.2615 2.67\n",
       "4 198           X527.1573_0.25_198 527.1573 0.25\n",
       "5 203           X391.2826_2.78_203 391.2826 2.78\n",
       "6 360           X689.2088_0.25_360 689.2088 0.25\n",
       "  Annotation                                            Cosine.Score\n",
       "1 URSOCHOLIC ACID                                       0.846769    \n",
       "2 Massbank:PR310844 LPC 18:2                            0.788289    \n",
       "3 Spectral Match to Cholic acid from NIST14             0.739535    \n",
       "4 RAFFINOSE                                             0.924812    \n",
       "5 Spectral Match to 12-Ketodeoxycholic acid from NIST14 0.822746    \n",
       "6 STACHYOSE                                             0.904611    \n",
       "  No..of.Shared.Peaks Mass.Diff..to.Library.Reference ppm.error   Analog.\n",
       "1 15                  5.30489e+01                     1.24434e+05 Yes    \n",
       "2  6                  2.50244e-03                     4.80923e+00 No     \n",
       "3 14                  1.49536e-03                     4.20917e+00 No     \n",
       "4  5                  7.32422e-04                     1.38938e+00 No     \n",
       "5 16                  1.40381e-03                     3.58770e+00 No     \n",
       "6  8                  2.19727e-03                     3.18809e+00 No     \n",
       "  Nearest.Neighbors                                     Proximity   \n",
       "1 Spectral Match to Cholic acid from NIST14             First       \n",
       "2 Massbank:PR310841 LPC 18:3                            First       \n",
       "3 URSOCHOLIC ACID                                       First Analog\n",
       "4 STACHYOSE                                             First       \n",
       "5 Spectral Match to 12-Ketodeoxycholic acid from NIST14 First Analog\n",
       "6 RAFFINOSE                                             First       \n",
       "  CF_class                        \n",
       "1 Steroids and steroid derivatives\n",
       "2 Glycerophospholipids            \n",
       "3 Steroids and steroid derivatives\n",
       "4 Organooxygen compounds          \n",
       "5 Steroids and steroid derivatives\n",
       "6 Organooxygen compounds          \n",
       "  CF_Dparent                                       CF_kingdom       \n",
       "1 Cholesterols and derivatives                     Organic compounds\n",
       "2 1-acyl-sn-glycero-3-phosphocholines              Organic compounds\n",
       "3 Cholesterols and derivatives                     Organic compounds\n",
       "4 Oligosaccharides                                 Organic compounds\n",
       "5 Monohydroxy bile acids, alcohols and derivatives Organic compounds\n",
       "6 Oligosaccharides                                 Organic compounds\n",
       "  CF_MFramework                       \n",
       "1 Aliphatic homopolycyclic compounds  \n",
       "2 Aliphatic acyclic compounds         \n",
       "3 Aliphatic homopolycyclic compounds  \n",
       "4 Aliphatic heteromonocyclic compounds\n",
       "5 Aliphatic homopolycyclic compounds  \n",
       "6 Aliphatic heteromonocyclic compounds\n",
       "  CF_subclass                               CF_superclass                  \n",
       "1 Cholestane steroids                       Lipids and lipid-like molecules\n",
       "2 Glycerophosphocholines                    Lipids and lipid-like molecules\n",
       "3 Cholestane steroids                       Lipids and lipid-like molecules\n",
       "4 Carbohydrates and carbohydrate conjugates Organic oxygen compounds       \n",
       "5 Bile acids, alcohols and derivatives      Lipids and lipid-like molecules\n",
       "6 Carbohydrates and carbohydrate conjugates Organic oxygen compounds       "
      ]
     },
     "metadata": {},
     "output_type": "display_data"
    }
   ],
   "source": [
    "###Metabolite features are rows with all their metadata and annotation\n",
    "###info as columns. Need to check dimensions first\n",
    "dim(anno)\n",
    "head(anno)"
   ]
  },
  {
   "cell_type": "code",
   "execution_count": 3,
   "id": "1abc719c",
   "metadata": {},
   "outputs": [
    {
     "data": {
      "text/html": [
       "<style>\n",
       ".list-inline {list-style: none; margin:0; padding: 0}\n",
       ".list-inline>li {display: inline-block}\n",
       ".list-inline>li:not(:last-child)::after {content: \"\\00b7\"; padding: 0 .5ex}\n",
       "</style>\n",
       "<ol class=list-inline><li>'X373.2721_2.67_48'</li><li>'X520.3385_2.86_51'</li><li>'X355.2615_2.67_142'</li><li>'X527.1573_0.25_198'</li><li>'X391.2826_2.78_203'</li><li>'X689.2088_0.25_360'</li></ol>\n"
      ],
      "text/latex": [
       "\\begin{enumerate*}\n",
       "\\item 'X373.2721\\_2.67\\_48'\n",
       "\\item 'X520.3385\\_2.86\\_51'\n",
       "\\item 'X355.2615\\_2.67\\_142'\n",
       "\\item 'X527.1573\\_0.25\\_198'\n",
       "\\item 'X391.2826\\_2.78\\_203'\n",
       "\\item 'X689.2088\\_0.25\\_360'\n",
       "\\end{enumerate*}\n"
      ],
      "text/markdown": [
       "1. 'X373.2721_2.67_48'\n",
       "2. 'X520.3385_2.86_51'\n",
       "3. 'X355.2615_2.67_142'\n",
       "4. 'X527.1573_0.25_198'\n",
       "5. 'X391.2826_2.78_203'\n",
       "6. 'X689.2088_0.25_360'\n",
       "\n",
       "\n"
      ],
      "text/plain": [
       "[1] \"X373.2721_2.67_48\"  \"X520.3385_2.86_51\"  \"X355.2615_2.67_142\"\n",
       "[4] \"X527.1573_0.25_198\" \"X391.2826_2.78_203\" \"X689.2088_0.25_360\""
      ]
     },
     "metadata": {},
     "output_type": "display_data"
    }
   ],
   "source": [
    "###Column 2 has our metabolite IDs, so we'll assign those to a new object\n",
    "head(anno[,2])\n",
    "feats <- anno[,2]"
   ]
  },
  {
   "cell_type": "code",
   "execution_count": 4,
   "id": "26c2ccf6",
   "metadata": {},
   "outputs": [
    {
     "data": {
      "text/html": [
       "1888"
      ],
      "text/latex": [
       "1888"
      ],
      "text/markdown": [
       "1888"
      ],
      "text/plain": [
       "[1] 1888"
      ]
     },
     "metadata": {},
     "output_type": "display_data"
    }
   ],
   "source": [
    "length(feats)"
   ]
  },
  {
   "cell_type": "code",
   "execution_count": 5,
   "id": "604a893e",
   "metadata": {},
   "outputs": [
    {
     "data": {
      "text/html": [
       "<style>\n",
       ".list-inline {list-style: none; margin:0; padding: 0}\n",
       ".list-inline>li {display: inline-block}\n",
       ".list-inline>li:not(:last-child)::after {content: \"\\00b7\"; padding: 0 .5ex}\n",
       "</style>\n",
       "<ol class=list-inline><li>967</li><li>36</li></ol>\n"
      ],
      "text/latex": [
       "\\begin{enumerate*}\n",
       "\\item 967\n",
       "\\item 36\n",
       "\\end{enumerate*}\n"
      ],
      "text/markdown": [
       "1. 967\n",
       "2. 36\n",
       "\n",
       "\n"
      ],
      "text/plain": [
       "[1] 967  36"
      ]
     },
     "metadata": {},
     "output_type": "display_data"
    },
    {
     "data": {
      "text/html": [
       "<table class=\"dataframe\">\n",
       "<caption>A data.frame: 6 × 36</caption>\n",
       "<thead>\n",
       "\t<tr><th></th><th scope=col>fch_147L_147V</th><th scope=col>fch_147L_147WG</th><th scope=col>fch_147L_165L</th><th scope=col>fch_147L_165V</th><th scope=col>fch_147L_165WG</th><th scope=col>fch_147L_291L</th><th scope=col>fch_147L_291V</th><th scope=col>fch_147L_291WG</th><th scope=col>fch_147V_147WG</th><th scope=col>fch_147V_165L</th><th scope=col>...</th><th scope=col>fch_165V_165WG</th><th scope=col>fch_165V_291L</th><th scope=col>fch_165V_291V</th><th scope=col>fch_165V_291WG</th><th scope=col>fch_165WG_291L</th><th scope=col>fch_165WG_291V</th><th scope=col>fch_165WG_291WG</th><th scope=col>fch_291L_291V</th><th scope=col>fch_291L_291WG</th><th scope=col>fch_291V_291WG</th></tr>\n",
       "\t<tr><th></th><th scope=col>&lt;chr&gt;</th><th scope=col>&lt;chr&gt;</th><th scope=col>&lt;chr&gt;</th><th scope=col>&lt;chr&gt;</th><th scope=col>&lt;chr&gt;</th><th scope=col>&lt;chr&gt;</th><th scope=col>&lt;chr&gt;</th><th scope=col>&lt;chr&gt;</th><th scope=col>&lt;chr&gt;</th><th scope=col>&lt;chr&gt;</th><th scope=col>...</th><th scope=col>&lt;chr&gt;</th><th scope=col>&lt;chr&gt;</th><th scope=col>&lt;chr&gt;</th><th scope=col>&lt;chr&gt;</th><th scope=col>&lt;chr&gt;</th><th scope=col>&lt;chr&gt;</th><th scope=col>&lt;chr&gt;</th><th scope=col>&lt;chr&gt;</th><th scope=col>&lt;chr&gt;</th><th scope=col>&lt;chr&gt;</th></tr>\n",
       "</thead>\n",
       "<tbody>\n",
       "\t<tr><th scope=row>1</th><td>X389.1321_3.49_6011</td><td>X485.2492_2.47_5313</td><td>X229.1433_2.3_5606 </td><td>X348.0786_0.25_5375</td><td>X459.3093_2.35_4598</td><td>X300.1548_2.15_7591</td><td>X484.23_2.28_7538  </td><td>X638.4019_2.67_4975</td><td>X485.2492_2.47_5313</td><td>X446.3245_2.85_5589</td><td>...</td><td>X459.3093_2.35_4598</td><td>X300.1548_2.15_7591</td><td>X484.23_2.28_7538  </td><td>X638.4019_2.67_4975</td><td>X300.1548_2.15_7591</td><td>X484.23_2.28_7538  </td><td>X287.1596_2.24_4329</td><td>X484.23_2.28_7538  </td><td>X638.4019_2.67_4975</td><td>X638.4019_2.67_4975</td></tr>\n",
       "\t<tr><th scope=row>2</th><td>X760.381_2.2_6973  </td><td>X405.1677_2.28_6357</td><td>X589.2852_2.37_1898</td><td>X577.371_2.89_3819 </td><td>X288.2157_2.49_2218</td><td>X290.1412_2.41_5119</td><td>X195.0651_2.17_5341</td><td>X287.1596_2.24_4329</td><td>X405.1677_2.28_6357</td><td>X229.1433_2.3_5606 </td><td>...</td><td>X288.2157_2.49_2218</td><td>X290.1412_2.41_5119</td><td>X195.0651_2.17_5341</td><td>X287.1596_2.24_4329</td><td>X290.1412_2.41_5119</td><td>X195.0651_2.17_5341</td><td>X290.1412_2.41_5119</td><td>X195.0651_2.17_5341</td><td>X287.1596_2.24_4329</td><td>X287.1596_2.24_4329</td></tr>\n",
       "\t<tr><th scope=row>3</th><td>X386.2884_2.6_5647 </td><td>X414.2236_2.26_3960</td><td>X260.1853_2.32_2272</td><td>X538.3496_2.71_5007</td><td>X384.1139_2.25_4137</td><td>X294.1376_2.12_3519</td><td>X369.1177_2.28_7534</td><td>X290.1412_2.41_5119</td><td>X414.2236_2.26_3960</td><td>X589.2852_2.37_1898</td><td>...</td><td>X384.1139_2.25_4137</td><td>X294.1376_2.12_3519</td><td>X369.1177_2.28_7534</td><td>X290.1412_2.41_5119</td><td>X294.1376_2.12_3519</td><td>X369.1177_2.28_7534</td><td>X317.2068_2.19_5126</td><td>X369.1177_2.28_7534</td><td>X317.2068_2.19_5126</td><td>X290.1412_2.41_5119</td></tr>\n",
       "\t<tr><th scope=row>4</th><td>X609.3224_2.21_5397</td><td>X593.366_2.72_5034 </td><td>X538.3851_3.21_3239</td><td>X517.3844_3.5_4812 </td><td>X638.4019_2.67_4975</td><td>X272.1233_0.54_7770</td><td>X436.2696_2.57_6981</td><td>X317.2068_2.19_5126</td><td>X593.366_2.72_5034 </td><td>X260.1853_2.32_2272</td><td>...</td><td>X638.4019_2.67_4975</td><td>X272.1233_0.54_7770</td><td>X436.2696_2.57_6981</td><td>X317.2068_2.19_5126</td><td>X272.1233_0.54_7770</td><td>X436.2696_2.57_6981</td><td>X414.1871_2.16_5333</td><td>X436.2696_2.57_6981</td><td>X414.1871_2.16_5333</td><td>X317.2068_2.19_5126</td></tr>\n",
       "\t<tr><th scope=row>5</th><td>X589.2852_2.37_1898</td><td>X589.2852_2.37_1898</td><td>X347.221_2.29_2781 </td><td>X540.4607_3.5_4789 </td><td>X287.1596_2.24_4329</td><td>X689.2088_0.25_360 </td><td>X625.2627_3.11_5382</td><td>X414.1871_2.16_5333</td><td>X384.2124_2.15_5068</td><td>X366.2621_2.68_3884</td><td>...</td><td>X287.1596_2.24_4329</td><td>X689.2088_0.25_360 </td><td>X625.2627_3.11_5382</td><td>X414.1871_2.16_5333</td><td>X689.2088_0.25_360 </td><td>X625.2627_3.11_5382</td><td>X589.2852_2.37_1898</td><td>X625.2627_3.11_5382</td><td>X589.2852_2.37_1898</td><td>X589.2852_2.37_1898</td></tr>\n",
       "\t<tr><th scope=row>6</th><td>X517.3844_3.5_4812 </td><td>X384.2124_2.15_5068</td><td>X310.1124_0.29_480 </td><td>X495.4025_3.5_4743 </td><td>X404.2993_2.53_4199</td><td>X538.3851_3.21_3239</td><td>X348.0786_0.25_5375</td><td>X589.2852_2.37_1898</td><td>X350.1608_2.25_4587</td><td>X538.3851_3.21_3239</td><td>...</td><td>X404.2993_2.53_4199</td><td>X538.3851_3.21_3239</td><td>X326.1957_2.28_4210</td><td>X589.2852_2.37_1898</td><td>X538.3851_3.21_3239</td><td>X348.0786_0.25_5375</td><td>X465.1642_2.07_6742</td><td>X348.0786_0.25_5375</td><td>X465.1642_2.07_6742</td><td>X465.1642_2.07_6742</td></tr>\n",
       "</tbody>\n",
       "</table>\n"
      ],
      "text/latex": [
       "A data.frame: 6 × 36\n",
       "\\begin{tabular}{r|lllllllllllllllllllll}\n",
       "  & fch\\_147L\\_147V & fch\\_147L\\_147WG & fch\\_147L\\_165L & fch\\_147L\\_165V & fch\\_147L\\_165WG & fch\\_147L\\_291L & fch\\_147L\\_291V & fch\\_147L\\_291WG & fch\\_147V\\_147WG & fch\\_147V\\_165L & ... & fch\\_165V\\_165WG & fch\\_165V\\_291L & fch\\_165V\\_291V & fch\\_165V\\_291WG & fch\\_165WG\\_291L & fch\\_165WG\\_291V & fch\\_165WG\\_291WG & fch\\_291L\\_291V & fch\\_291L\\_291WG & fch\\_291V\\_291WG\\\\\n",
       "  & <chr> & <chr> & <chr> & <chr> & <chr> & <chr> & <chr> & <chr> & <chr> & <chr> & ... & <chr> & <chr> & <chr> & <chr> & <chr> & <chr> & <chr> & <chr> & <chr> & <chr>\\\\\n",
       "\\hline\n",
       "\t1 & X389.1321\\_3.49\\_6011 & X485.2492\\_2.47\\_5313 & X229.1433\\_2.3\\_5606  & X348.0786\\_0.25\\_5375 & X459.3093\\_2.35\\_4598 & X300.1548\\_2.15\\_7591 & X484.23\\_2.28\\_7538   & X638.4019\\_2.67\\_4975 & X485.2492\\_2.47\\_5313 & X446.3245\\_2.85\\_5589 & ... & X459.3093\\_2.35\\_4598 & X300.1548\\_2.15\\_7591 & X484.23\\_2.28\\_7538   & X638.4019\\_2.67\\_4975 & X300.1548\\_2.15\\_7591 & X484.23\\_2.28\\_7538   & X287.1596\\_2.24\\_4329 & X484.23\\_2.28\\_7538   & X638.4019\\_2.67\\_4975 & X638.4019\\_2.67\\_4975\\\\\n",
       "\t2 & X760.381\\_2.2\\_6973   & X405.1677\\_2.28\\_6357 & X589.2852\\_2.37\\_1898 & X577.371\\_2.89\\_3819  & X288.2157\\_2.49\\_2218 & X290.1412\\_2.41\\_5119 & X195.0651\\_2.17\\_5341 & X287.1596\\_2.24\\_4329 & X405.1677\\_2.28\\_6357 & X229.1433\\_2.3\\_5606  & ... & X288.2157\\_2.49\\_2218 & X290.1412\\_2.41\\_5119 & X195.0651\\_2.17\\_5341 & X287.1596\\_2.24\\_4329 & X290.1412\\_2.41\\_5119 & X195.0651\\_2.17\\_5341 & X290.1412\\_2.41\\_5119 & X195.0651\\_2.17\\_5341 & X287.1596\\_2.24\\_4329 & X287.1596\\_2.24\\_4329\\\\\n",
       "\t3 & X386.2884\\_2.6\\_5647  & X414.2236\\_2.26\\_3960 & X260.1853\\_2.32\\_2272 & X538.3496\\_2.71\\_5007 & X384.1139\\_2.25\\_4137 & X294.1376\\_2.12\\_3519 & X369.1177\\_2.28\\_7534 & X290.1412\\_2.41\\_5119 & X414.2236\\_2.26\\_3960 & X589.2852\\_2.37\\_1898 & ... & X384.1139\\_2.25\\_4137 & X294.1376\\_2.12\\_3519 & X369.1177\\_2.28\\_7534 & X290.1412\\_2.41\\_5119 & X294.1376\\_2.12\\_3519 & X369.1177\\_2.28\\_7534 & X317.2068\\_2.19\\_5126 & X369.1177\\_2.28\\_7534 & X317.2068\\_2.19\\_5126 & X290.1412\\_2.41\\_5119\\\\\n",
       "\t4 & X609.3224\\_2.21\\_5397 & X593.366\\_2.72\\_5034  & X538.3851\\_3.21\\_3239 & X517.3844\\_3.5\\_4812  & X638.4019\\_2.67\\_4975 & X272.1233\\_0.54\\_7770 & X436.2696\\_2.57\\_6981 & X317.2068\\_2.19\\_5126 & X593.366\\_2.72\\_5034  & X260.1853\\_2.32\\_2272 & ... & X638.4019\\_2.67\\_4975 & X272.1233\\_0.54\\_7770 & X436.2696\\_2.57\\_6981 & X317.2068\\_2.19\\_5126 & X272.1233\\_0.54\\_7770 & X436.2696\\_2.57\\_6981 & X414.1871\\_2.16\\_5333 & X436.2696\\_2.57\\_6981 & X414.1871\\_2.16\\_5333 & X317.2068\\_2.19\\_5126\\\\\n",
       "\t5 & X589.2852\\_2.37\\_1898 & X589.2852\\_2.37\\_1898 & X347.221\\_2.29\\_2781  & X540.4607\\_3.5\\_4789  & X287.1596\\_2.24\\_4329 & X689.2088\\_0.25\\_360  & X625.2627\\_3.11\\_5382 & X414.1871\\_2.16\\_5333 & X384.2124\\_2.15\\_5068 & X366.2621\\_2.68\\_3884 & ... & X287.1596\\_2.24\\_4329 & X689.2088\\_0.25\\_360  & X625.2627\\_3.11\\_5382 & X414.1871\\_2.16\\_5333 & X689.2088\\_0.25\\_360  & X625.2627\\_3.11\\_5382 & X589.2852\\_2.37\\_1898 & X625.2627\\_3.11\\_5382 & X589.2852\\_2.37\\_1898 & X589.2852\\_2.37\\_1898\\\\\n",
       "\t6 & X517.3844\\_3.5\\_4812  & X384.2124\\_2.15\\_5068 & X310.1124\\_0.29\\_480  & X495.4025\\_3.5\\_4743  & X404.2993\\_2.53\\_4199 & X538.3851\\_3.21\\_3239 & X348.0786\\_0.25\\_5375 & X589.2852\\_2.37\\_1898 & X350.1608\\_2.25\\_4587 & X538.3851\\_3.21\\_3239 & ... & X404.2993\\_2.53\\_4199 & X538.3851\\_3.21\\_3239 & X326.1957\\_2.28\\_4210 & X589.2852\\_2.37\\_1898 & X538.3851\\_3.21\\_3239 & X348.0786\\_0.25\\_5375 & X465.1642\\_2.07\\_6742 & X348.0786\\_0.25\\_5375 & X465.1642\\_2.07\\_6742 & X465.1642\\_2.07\\_6742\\\\\n",
       "\\end{tabular}\n"
      ],
      "text/markdown": [
       "\n",
       "A data.frame: 6 × 36\n",
       "\n",
       "| <!--/--> | fch_147L_147V &lt;chr&gt; | fch_147L_147WG &lt;chr&gt; | fch_147L_165L &lt;chr&gt; | fch_147L_165V &lt;chr&gt; | fch_147L_165WG &lt;chr&gt; | fch_147L_291L &lt;chr&gt; | fch_147L_291V &lt;chr&gt; | fch_147L_291WG &lt;chr&gt; | fch_147V_147WG &lt;chr&gt; | fch_147V_165L &lt;chr&gt; | ... ... | fch_165V_165WG &lt;chr&gt; | fch_165V_291L &lt;chr&gt; | fch_165V_291V &lt;chr&gt; | fch_165V_291WG &lt;chr&gt; | fch_165WG_291L &lt;chr&gt; | fch_165WG_291V &lt;chr&gt; | fch_165WG_291WG &lt;chr&gt; | fch_291L_291V &lt;chr&gt; | fch_291L_291WG &lt;chr&gt; | fch_291V_291WG &lt;chr&gt; |\n",
       "|---|---|---|---|---|---|---|---|---|---|---|---|---|---|---|---|---|---|---|---|---|---|\n",
       "| 1 | X389.1321_3.49_6011 | X485.2492_2.47_5313 | X229.1433_2.3_5606  | X348.0786_0.25_5375 | X459.3093_2.35_4598 | X300.1548_2.15_7591 | X484.23_2.28_7538   | X638.4019_2.67_4975 | X485.2492_2.47_5313 | X446.3245_2.85_5589 | ... | X459.3093_2.35_4598 | X300.1548_2.15_7591 | X484.23_2.28_7538   | X638.4019_2.67_4975 | X300.1548_2.15_7591 | X484.23_2.28_7538   | X287.1596_2.24_4329 | X484.23_2.28_7538   | X638.4019_2.67_4975 | X638.4019_2.67_4975 |\n",
       "| 2 | X760.381_2.2_6973   | X405.1677_2.28_6357 | X589.2852_2.37_1898 | X577.371_2.89_3819  | X288.2157_2.49_2218 | X290.1412_2.41_5119 | X195.0651_2.17_5341 | X287.1596_2.24_4329 | X405.1677_2.28_6357 | X229.1433_2.3_5606  | ... | X288.2157_2.49_2218 | X290.1412_2.41_5119 | X195.0651_2.17_5341 | X287.1596_2.24_4329 | X290.1412_2.41_5119 | X195.0651_2.17_5341 | X290.1412_2.41_5119 | X195.0651_2.17_5341 | X287.1596_2.24_4329 | X287.1596_2.24_4329 |\n",
       "| 3 | X386.2884_2.6_5647  | X414.2236_2.26_3960 | X260.1853_2.32_2272 | X538.3496_2.71_5007 | X384.1139_2.25_4137 | X294.1376_2.12_3519 | X369.1177_2.28_7534 | X290.1412_2.41_5119 | X414.2236_2.26_3960 | X589.2852_2.37_1898 | ... | X384.1139_2.25_4137 | X294.1376_2.12_3519 | X369.1177_2.28_7534 | X290.1412_2.41_5119 | X294.1376_2.12_3519 | X369.1177_2.28_7534 | X317.2068_2.19_5126 | X369.1177_2.28_7534 | X317.2068_2.19_5126 | X290.1412_2.41_5119 |\n",
       "| 4 | X609.3224_2.21_5397 | X593.366_2.72_5034  | X538.3851_3.21_3239 | X517.3844_3.5_4812  | X638.4019_2.67_4975 | X272.1233_0.54_7770 | X436.2696_2.57_6981 | X317.2068_2.19_5126 | X593.366_2.72_5034  | X260.1853_2.32_2272 | ... | X638.4019_2.67_4975 | X272.1233_0.54_7770 | X436.2696_2.57_6981 | X317.2068_2.19_5126 | X272.1233_0.54_7770 | X436.2696_2.57_6981 | X414.1871_2.16_5333 | X436.2696_2.57_6981 | X414.1871_2.16_5333 | X317.2068_2.19_5126 |\n",
       "| 5 | X589.2852_2.37_1898 | X589.2852_2.37_1898 | X347.221_2.29_2781  | X540.4607_3.5_4789  | X287.1596_2.24_4329 | X689.2088_0.25_360  | X625.2627_3.11_5382 | X414.1871_2.16_5333 | X384.2124_2.15_5068 | X366.2621_2.68_3884 | ... | X287.1596_2.24_4329 | X689.2088_0.25_360  | X625.2627_3.11_5382 | X414.1871_2.16_5333 | X689.2088_0.25_360  | X625.2627_3.11_5382 | X589.2852_2.37_1898 | X625.2627_3.11_5382 | X589.2852_2.37_1898 | X589.2852_2.37_1898 |\n",
       "| 6 | X517.3844_3.5_4812  | X384.2124_2.15_5068 | X310.1124_0.29_480  | X495.4025_3.5_4743  | X404.2993_2.53_4199 | X538.3851_3.21_3239 | X348.0786_0.25_5375 | X589.2852_2.37_1898 | X350.1608_2.25_4587 | X538.3851_3.21_3239 | ... | X404.2993_2.53_4199 | X538.3851_3.21_3239 | X326.1957_2.28_4210 | X589.2852_2.37_1898 | X538.3851_3.21_3239 | X348.0786_0.25_5375 | X465.1642_2.07_6742 | X348.0786_0.25_5375 | X465.1642_2.07_6742 | X465.1642_2.07_6742 |\n",
       "\n"
      ],
      "text/plain": [
       "  fch_147L_147V       fch_147L_147WG      fch_147L_165L      \n",
       "1 X389.1321_3.49_6011 X485.2492_2.47_5313 X229.1433_2.3_5606 \n",
       "2 X760.381_2.2_6973   X405.1677_2.28_6357 X589.2852_2.37_1898\n",
       "3 X386.2884_2.6_5647  X414.2236_2.26_3960 X260.1853_2.32_2272\n",
       "4 X609.3224_2.21_5397 X593.366_2.72_5034  X538.3851_3.21_3239\n",
       "5 X589.2852_2.37_1898 X589.2852_2.37_1898 X347.221_2.29_2781 \n",
       "6 X517.3844_3.5_4812  X384.2124_2.15_5068 X310.1124_0.29_480 \n",
       "  fch_147L_165V       fch_147L_165WG      fch_147L_291L      \n",
       "1 X348.0786_0.25_5375 X459.3093_2.35_4598 X300.1548_2.15_7591\n",
       "2 X577.371_2.89_3819  X288.2157_2.49_2218 X290.1412_2.41_5119\n",
       "3 X538.3496_2.71_5007 X384.1139_2.25_4137 X294.1376_2.12_3519\n",
       "4 X517.3844_3.5_4812  X638.4019_2.67_4975 X272.1233_0.54_7770\n",
       "5 X540.4607_3.5_4789  X287.1596_2.24_4329 X689.2088_0.25_360 \n",
       "6 X495.4025_3.5_4743  X404.2993_2.53_4199 X538.3851_3.21_3239\n",
       "  fch_147L_291V       fch_147L_291WG      fch_147V_147WG     \n",
       "1 X484.23_2.28_7538   X638.4019_2.67_4975 X485.2492_2.47_5313\n",
       "2 X195.0651_2.17_5341 X287.1596_2.24_4329 X405.1677_2.28_6357\n",
       "3 X369.1177_2.28_7534 X290.1412_2.41_5119 X414.2236_2.26_3960\n",
       "4 X436.2696_2.57_6981 X317.2068_2.19_5126 X593.366_2.72_5034 \n",
       "5 X625.2627_3.11_5382 X414.1871_2.16_5333 X384.2124_2.15_5068\n",
       "6 X348.0786_0.25_5375 X589.2852_2.37_1898 X350.1608_2.25_4587\n",
       "  fch_147V_165L       ... fch_165V_165WG      fch_165V_291L      \n",
       "1 X446.3245_2.85_5589 ... X459.3093_2.35_4598 X300.1548_2.15_7591\n",
       "2 X229.1433_2.3_5606  ... X288.2157_2.49_2218 X290.1412_2.41_5119\n",
       "3 X589.2852_2.37_1898 ... X384.1139_2.25_4137 X294.1376_2.12_3519\n",
       "4 X260.1853_2.32_2272 ... X638.4019_2.67_4975 X272.1233_0.54_7770\n",
       "5 X366.2621_2.68_3884 ... X287.1596_2.24_4329 X689.2088_0.25_360 \n",
       "6 X538.3851_3.21_3239 ... X404.2993_2.53_4199 X538.3851_3.21_3239\n",
       "  fch_165V_291V       fch_165V_291WG      fch_165WG_291L     \n",
       "1 X484.23_2.28_7538   X638.4019_2.67_4975 X300.1548_2.15_7591\n",
       "2 X195.0651_2.17_5341 X287.1596_2.24_4329 X290.1412_2.41_5119\n",
       "3 X369.1177_2.28_7534 X290.1412_2.41_5119 X294.1376_2.12_3519\n",
       "4 X436.2696_2.57_6981 X317.2068_2.19_5126 X272.1233_0.54_7770\n",
       "5 X625.2627_3.11_5382 X414.1871_2.16_5333 X689.2088_0.25_360 \n",
       "6 X326.1957_2.28_4210 X589.2852_2.37_1898 X538.3851_3.21_3239\n",
       "  fch_165WG_291V      fch_165WG_291WG     fch_291L_291V      \n",
       "1 X484.23_2.28_7538   X287.1596_2.24_4329 X484.23_2.28_7538  \n",
       "2 X195.0651_2.17_5341 X290.1412_2.41_5119 X195.0651_2.17_5341\n",
       "3 X369.1177_2.28_7534 X317.2068_2.19_5126 X369.1177_2.28_7534\n",
       "4 X436.2696_2.57_6981 X414.1871_2.16_5333 X436.2696_2.57_6981\n",
       "5 X625.2627_3.11_5382 X589.2852_2.37_1898 X625.2627_3.11_5382\n",
       "6 X348.0786_0.25_5375 X465.1642_2.07_6742 X348.0786_0.25_5375\n",
       "  fch_291L_291WG      fch_291V_291WG     \n",
       "1 X638.4019_2.67_4975 X638.4019_2.67_4975\n",
       "2 X287.1596_2.24_4329 X287.1596_2.24_4329\n",
       "3 X317.2068_2.19_5126 X290.1412_2.41_5119\n",
       "4 X414.1871_2.16_5333 X317.2068_2.19_5126\n",
       "5 X589.2852_2.37_1898 X589.2852_2.37_1898\n",
       "6 X465.1642_2.07_6742 X465.1642_2.07_6742"
      ]
     },
     "metadata": {},
     "output_type": "display_data"
    }
   ],
   "source": [
    "###Now reading in our sample group files, where columns are individual \n",
    "###sample groups and each column is filled with the metabolite IDs\n",
    "###that are present in that group.\n",
    "file <- read.csv(\"Cecum_KW_Output_Fch_noNAs_filtered_for_Upset_Plot.csv\")\n",
    "dim(file)\n",
    "head(file)"
   ]
  },
  {
   "cell_type": "code",
   "execution_count": 6,
   "id": "253e5a46",
   "metadata": {},
   "outputs": [
    {
     "data": {
      "text/html": [
       "967"
      ],
      "text/latex": [
       "967"
      ],
      "text/markdown": [
       "967"
      ],
      "text/plain": [
       "[1] 967"
      ]
     },
     "metadata": {},
     "output_type": "display_data"
    }
   ],
   "source": [
    "###To format the files so our sample groups are added to our metabolite\n",
    "###feature list (\"anno\") as columns with the cells saying \"Yes\" or \"NA\" \n",
    "###for present and absent metabolites, respectively, we'll start with \n",
    "###the first column and sample group.\n",
    "names.1 <- file[,1]\n",
    "length(names.1)"
   ]
  },
  {
   "cell_type": "code",
   "execution_count": 7,
   "id": "0e572064",
   "metadata": {},
   "outputs": [
    {
     "data": {
      "text/html": [
       "<style>\n",
       ".list-inline {list-style: none; margin:0; padding: 0}\n",
       ".list-inline>li {display: inline-block}\n",
       ".list-inline>li:not(:last-child)::after {content: \"\\00b7\"; padding: 0 .5ex}\n",
       "</style>\n",
       "<ol class=list-inline><li>'X389.1321_3.49_6011'</li><li>'X760.381_2.2_6973'</li><li>'X386.2884_2.6_5647'</li><li>'X609.3224_2.21_5397'</li><li>'X589.2852_2.37_1898'</li><li>'X517.3844_3.5_4812'</li></ol>\n"
      ],
      "text/latex": [
       "\\begin{enumerate*}\n",
       "\\item 'X389.1321\\_3.49\\_6011'\n",
       "\\item 'X760.381\\_2.2\\_6973'\n",
       "\\item 'X386.2884\\_2.6\\_5647'\n",
       "\\item 'X609.3224\\_2.21\\_5397'\n",
       "\\item 'X589.2852\\_2.37\\_1898'\n",
       "\\item 'X517.3844\\_3.5\\_4812'\n",
       "\\end{enumerate*}\n"
      ],
      "text/markdown": [
       "1. 'X389.1321_3.49_6011'\n",
       "2. 'X760.381_2.2_6973'\n",
       "3. 'X386.2884_2.6_5647'\n",
       "4. 'X609.3224_2.21_5397'\n",
       "5. 'X589.2852_2.37_1898'\n",
       "6. 'X517.3844_3.5_4812'\n",
       "\n",
       "\n"
      ],
      "text/plain": [
       "[1] \"X389.1321_3.49_6011\" \"X760.381_2.2_6973\"   \"X386.2884_2.6_5647\" \n",
       "[4] \"X609.3224_2.21_5397\" \"X589.2852_2.37_1898\" \"X517.3844_3.5_4812\" "
      ]
     },
     "metadata": {},
     "output_type": "display_data"
    }
   ],
   "source": [
    "###This will be the first sample group and their present metabolites.\n",
    "head(names.1)"
   ]
  },
  {
   "cell_type": "code",
   "execution_count": 8,
   "id": "c903062d",
   "metadata": {},
   "outputs": [
    {
     "data": {
      "text/html": [
       "<ol>\n",
       "\t<li>'X373.2721_2.67_48'</li>\n",
       "\t<li>'X520.3385_2.86_51'</li>\n",
       "\t<li>'X355.2615_2.67_142'</li>\n",
       "\t<li>'X527.1573_0.25_198'</li>\n",
       "\t<li>'X391.2826_2.78_203'</li>\n",
       "\t<li>'X689.2088_0.25_360'</li>\n",
       "</ol>\n"
      ],
      "text/latex": [
       "\\begin{enumerate}\n",
       "\\item 'X373.2721\\_2.67\\_48'\n",
       "\\item 'X520.3385\\_2.86\\_51'\n",
       "\\item 'X355.2615\\_2.67\\_142'\n",
       "\\item 'X527.1573\\_0.25\\_198'\n",
       "\\item 'X391.2826\\_2.78\\_203'\n",
       "\\item 'X689.2088\\_0.25\\_360'\n",
       "\\end{enumerate}\n"
      ],
      "text/markdown": [
       "1. 'X373.2721_2.67_48'\n",
       "2. 'X520.3385_2.86_51'\n",
       "3. 'X355.2615_2.67_142'\n",
       "4. 'X527.1573_0.25_198'\n",
       "5. 'X391.2826_2.78_203'\n",
       "6. 'X689.2088_0.25_360'\n",
       "\n",
       "\n"
      ],
      "text/plain": [
       "[[1]]\n",
       "[1] \"X373.2721_2.67_48\"\n",
       "\n",
       "[[2]]\n",
       "[1] \"X520.3385_2.86_51\"\n",
       "\n",
       "[[3]]\n",
       "[1] \"X355.2615_2.67_142\"\n",
       "\n",
       "[[4]]\n",
       "[1] \"X527.1573_0.25_198\"\n",
       "\n",
       "[[5]]\n",
       "[1] \"X391.2826_2.78_203\"\n",
       "\n",
       "[[6]]\n",
       "[1] \"X689.2088_0.25_360\"\n"
      ]
     },
     "metadata": {},
     "output_type": "display_data"
    }
   ],
   "source": [
    "###To perform the filtered searching, we'll need the annotations to\n",
    "###be a list.\n",
    "f.list <- as.list(feats)\n",
    "head(f.list)"
   ]
  },
  {
   "cell_type": "code",
   "execution_count": 9,
   "id": "abe39149",
   "metadata": {},
   "outputs": [],
   "source": [
    "###Now the metabolite annotations and their IDs are a list, we'll search\n",
    "###each of the present metabolites (for that group) within the larger\n",
    "###list. Importantly, the \"which\" function will place any matches according\n",
    "###to their location within \"f.list\"\n",
    "ans.1 <- sapply(f.list, function(x) which(x %in% names.1))"
   ]
  },
  {
   "cell_type": "code",
   "execution_count": 10,
   "id": "d0c572dc",
   "metadata": {},
   "outputs": [
    {
     "data": {
      "text/html": [
       "<ol>\n",
       "\t<li>1</li>\n",
       "\t<li>1</li>\n",
       "\t<li>1</li>\n",
       "\t<li></li>\n",
       "\t<li>1</li>\n",
       "\t<li></li>\n",
       "</ol>\n"
      ],
      "text/latex": [
       "\\begin{enumerate}\n",
       "\\item 1\n",
       "\\item 1\n",
       "\\item 1\n",
       "\\item \n",
       "\\item 1\n",
       "\\item \n",
       "\\end{enumerate}\n"
      ],
      "text/markdown": [
       "1. 1\n",
       "2. 1\n",
       "3. 1\n",
       "4. \n",
       "5. 1\n",
       "6. \n",
       "\n",
       "\n"
      ],
      "text/plain": [
       "[[1]]\n",
       "[1] 1\n",
       "\n",
       "[[2]]\n",
       "[1] 1\n",
       "\n",
       "[[3]]\n",
       "[1] 1\n",
       "\n",
       "[[4]]\n",
       "integer(0)\n",
       "\n",
       "[[5]]\n",
       "[1] 1\n",
       "\n",
       "[[6]]\n",
       "integer(0)\n"
      ]
     },
     "metadata": {},
     "output_type": "display_data"
    }
   ],
   "source": [
    "###Inspecting the output confirms whether the search worked. Absent/nul//\n",
    "###NA values represent instances where metabolites were not present in\n",
    "###that group, while \"1\" values mean the metabolite was present in that\n",
    "###column. \n",
    "head(ans.1)"
   ]
  },
  {
   "cell_type": "code",
   "execution_count": 12,
   "id": "4572d05e",
   "metadata": {},
   "outputs": [],
   "source": [
    "###If your data are too large (e.g., >1000 features), R might not save \n",
    "###the full output by default. To extend the data limits, use:\n",
    "options.maxprint=10000\n",
    "###Saving output as csv\n",
    "capture.output(ans.1, file=\"fch147L_147V.csv\")"
   ]
  },
  {
   "cell_type": "code",
   "execution_count": 13,
   "id": "e700f7f5",
   "metadata": {},
   "outputs": [],
   "source": [
    "###Once output is ready, delete all the blank rows and remove the list\n",
    "###headers (\"[[1]]\"). This will leave only the \"NA\" and \"1\" cells.\n",
    "###The column length should now match the dimensions of your metabolite\n",
    "##feature list. Lastly, replace \"1\" values with \"Yes\" to indicate that\n",
    "###metabolite feature was present in the sample group. "
   ]
  },
  {
   "cell_type": "code",
   "execution_count": 14,
   "id": "ad2ed208",
   "metadata": {},
   "outputs": [
    {
     "data": {
      "text/html": [
       "<style>\n",
       ".list-inline {list-style: none; margin:0; padding: 0}\n",
       ".list-inline>li {display: inline-block}\n",
       ".list-inline>li:not(:last-child)::after {content: \"\\00b7\"; padding: 0 .5ex}\n",
       "</style>\n",
       "<ol class=list-inline><li>'X485.2492_2.47_5313'</li><li>'X405.1677_2.28_6357'</li><li>'X414.2236_2.26_3960'</li><li>'X593.366_2.72_5034'</li><li>'X589.2852_2.37_1898'</li><li>'X384.2124_2.15_5068'</li></ol>\n"
      ],
      "text/latex": [
       "\\begin{enumerate*}\n",
       "\\item 'X485.2492\\_2.47\\_5313'\n",
       "\\item 'X405.1677\\_2.28\\_6357'\n",
       "\\item 'X414.2236\\_2.26\\_3960'\n",
       "\\item 'X593.366\\_2.72\\_5034'\n",
       "\\item 'X589.2852\\_2.37\\_1898'\n",
       "\\item 'X384.2124\\_2.15\\_5068'\n",
       "\\end{enumerate*}\n"
      ],
      "text/markdown": [
       "1. 'X485.2492_2.47_5313'\n",
       "2. 'X405.1677_2.28_6357'\n",
       "3. 'X414.2236_2.26_3960'\n",
       "4. 'X593.366_2.72_5034'\n",
       "5. 'X589.2852_2.37_1898'\n",
       "6. 'X384.2124_2.15_5068'\n",
       "\n",
       "\n"
      ],
      "text/plain": [
       "[1] \"X485.2492_2.47_5313\" \"X405.1677_2.28_6357\" \"X414.2236_2.26_3960\"\n",
       "[4] \"X593.366_2.72_5034\"  \"X589.2852_2.37_1898\" \"X384.2124_2.15_5068\""
      ]
     },
     "metadata": {},
     "output_type": "display_data"
    }
   ],
   "source": [
    "###As mentioned earlier, we need to repeat the previous steps for each\n",
    "###sample group/column. The following code is an example of how it\n",
    "###can be independently done for each sample group being compared\n",
    "names.2 <- file[,2]\n",
    "head(names.2)"
   ]
  },
  {
   "cell_type": "code",
   "execution_count": 15,
   "id": "2c7b036a",
   "metadata": {},
   "outputs": [
    {
     "data": {
      "text/html": [
       "<ol>\n",
       "\t<li></li>\n",
       "\t<li>1</li>\n",
       "\t<li></li>\n",
       "\t<li></li>\n",
       "\t<li>1</li>\n",
       "\t<li></li>\n",
       "</ol>\n"
      ],
      "text/latex": [
       "\\begin{enumerate}\n",
       "\\item \n",
       "\\item 1\n",
       "\\item \n",
       "\\item \n",
       "\\item 1\n",
       "\\item \n",
       "\\end{enumerate}\n"
      ],
      "text/markdown": [
       "1. \n",
       "2. 1\n",
       "3. \n",
       "4. \n",
       "5. 1\n",
       "6. \n",
       "\n",
       "\n"
      ],
      "text/plain": [
       "[[1]]\n",
       "integer(0)\n",
       "\n",
       "[[2]]\n",
       "[1] 1\n",
       "\n",
       "[[3]]\n",
       "integer(0)\n",
       "\n",
       "[[4]]\n",
       "integer(0)\n",
       "\n",
       "[[5]]\n",
       "[1] 1\n",
       "\n",
       "[[6]]\n",
       "integer(0)\n"
      ]
     },
     "metadata": {},
     "output_type": "display_data"
    }
   ],
   "source": [
    "###The \".2\" part of the object names represents I'm working with the \n",
    "###second column/sample group.\n",
    "ans.2 <- sapply(f.list, function(x) which(x %in% names.2))\n",
    "head(ans.2)"
   ]
  },
  {
   "cell_type": "code",
   "execution_count": 16,
   "id": "b8d79df6",
   "metadata": {},
   "outputs": [],
   "source": [
    "capture.output(ans.2, file=\"fch147L_147WG.csv\")\n",
    "###Don't forget to remove the blanks, list bracket headers, and replace\n",
    "###1's with \"Yes\". Then can add to the full metabolite feature table."
   ]
  },
  {
   "cell_type": "code",
   "execution_count": 17,
   "id": "3d30bd6b",
   "metadata": {},
   "outputs": [],
   "source": [
    "###The code above can be run for all sample groups. Once all the files \n",
    "###are formatted correctly with the full metabolite feature table,\n",
    "###the files are ready for creating colored Upset plots."
   ]
  },
  {
   "cell_type": "code",
   "execution_count": null,
   "id": "a8957bfa",
   "metadata": {},
   "outputs": [],
   "source": []
  }
 ],
 "metadata": {
  "kernelspec": {
   "display_name": "R",
   "language": "R",
   "name": "ir"
  },
  "language_info": {
   "codemirror_mode": "r",
   "file_extension": ".r",
   "mimetype": "text/x-r-source",
   "name": "R",
   "pygments_lexer": "r",
   "version": "4.0.4"
  }
 },
 "nbformat": 4,
 "nbformat_minor": 5
}
