{
 "cells": [
  {
   "cell_type": "code",
   "execution_count": 1,
   "id": "1a4201fa",
   "metadata": {},
   "outputs": [],
   "source": [
    "###As a warning, this code works best for small sample group numbers\n",
    "###because it requires repeating the commands for each sample group\n",
    "###independently. While not ideal, the processing is straightforward, so\n",
    "###it can be done for large sample group comparisons.\n",
    "\n",
    "\n",
    "\n",
    "###First, reading in our file with the list of metabolite features\n",
    "anno <- read.csv(\"Serum_KW_Matches(Completed)_merged_wMolNetEnhancer.csv\")"
   ]
  },
  {
   "cell_type": "code",
   "execution_count": 2,
   "id": "bc67c07c",
   "metadata": {},
   "outputs": [
    {
     "data": {
      "text/html": [
       "<style>\n",
       ".list-inline {list-style: none; margin:0; padding: 0}\n",
       ".list-inline>li {display: inline-block}\n",
       ".list-inline>li:not(:last-child)::after {content: \"\\00b7\"; padding: 0 .5ex}\n",
       "</style>\n",
       "<ol class=list-inline><li>146</li><li>18</li></ol>\n"
      ],
      "text/latex": [
       "\\begin{enumerate*}\n",
       "\\item 146\n",
       "\\item 18\n",
       "\\end{enumerate*}\n"
      ],
      "text/markdown": [
       "1. 146\n",
       "2. 18\n",
       "\n",
       "\n"
      ],
      "text/plain": [
       "[1] 146  18"
      ]
     },
     "metadata": {},
     "output_type": "display_data"
    }
   ],
   "source": [
    "###Metabolite features are rows and columns represent metadata info\n",
    "###for those specific metabolites. We want to check the dimensions\n",
    "###to make sure everything was read in correctly and also to keep\n",
    "###track of the number of total metabolite features.\n",
    "dim(anno)"
   ]
  },
  {
   "cell_type": "code",
   "execution_count": 3,
   "id": "10c21d3d",
   "metadata": {},
   "outputs": [
    {
     "data": {
      "text/html": [
       "<style>\n",
       ".list-inline {list-style: none; margin:0; padding: 0}\n",
       ".list-inline>li {display: inline-block}\n",
       ".list-inline>li:not(:last-child)::after {content: \"\\00b7\"; padding: 0 .5ex}\n",
       "</style>\n",
       "<ol class=list-inline><li>'X272.2573_2.71_552'</li><li>'X518.3225_2.82_1277'</li><li>'X375.2878_2.83_1371'</li><li>'X247.1282_0.5_1402'</li><li>'X204.1228_0.26_1443'</li><li>'X185.9595_0.25_1537'</li></ol>\n"
      ],
      "text/latex": [
       "\\begin{enumerate*}\n",
       "\\item 'X272.2573\\_2.71\\_552'\n",
       "\\item 'X518.3225\\_2.82\\_1277'\n",
       "\\item 'X375.2878\\_2.83\\_1371'\n",
       "\\item 'X247.1282\\_0.5\\_1402'\n",
       "\\item 'X204.1228\\_0.26\\_1443'\n",
       "\\item 'X185.9595\\_0.25\\_1537'\n",
       "\\end{enumerate*}\n"
      ],
      "text/markdown": [
       "1. 'X272.2573_2.71_552'\n",
       "2. 'X518.3225_2.82_1277'\n",
       "3. 'X375.2878_2.83_1371'\n",
       "4. 'X247.1282_0.5_1402'\n",
       "5. 'X204.1228_0.26_1443'\n",
       "6. 'X185.9595_0.25_1537'\n",
       "\n",
       "\n"
      ],
      "text/plain": [
       "[1] \"X272.2573_2.71_552\"  \"X518.3225_2.82_1277\" \"X375.2878_2.83_1371\"\n",
       "[4] \"X247.1282_0.5_1402\"  \"X204.1228_0.26_1443\" \"X185.9595_0.25_1537\""
      ]
     },
     "metadata": {},
     "output_type": "display_data"
    }
   ],
   "source": [
    "###Now we'll take this table and take the column with metabolite IDs\n",
    "###and save as a separate variable.\n",
    "head(anno[,2])\n",
    "feats <- anno[,2]"
   ]
  },
  {
   "cell_type": "code",
   "execution_count": 4,
   "id": "94407313",
   "metadata": {},
   "outputs": [
    {
     "data": {
      "text/html": [
       "146"
      ],
      "text/latex": [
       "146"
      ],
      "text/markdown": [
       "146"
      ],
      "text/plain": [
       "[1] 146"
      ]
     },
     "metadata": {},
     "output_type": "display_data"
    }
   ],
   "source": [
    "length(feats)"
   ]
  },
  {
   "cell_type": "code",
   "execution_count": 5,
   "id": "3f4b2c01",
   "metadata": {},
   "outputs": [
    {
     "data": {
      "text/html": [
       "<table class=\"dataframe\">\n",
       "<caption>A data.frame: 6 × 36</caption>\n",
       "<thead>\n",
       "\t<tr><th></th><th scope=col>fch_147L_147V</th><th scope=col>fch_147L_147WG</th><th scope=col>fch_147L_165L</th><th scope=col>fch_147L_165V</th><th scope=col>fch_147L_165WG</th><th scope=col>fch_147L_291L</th><th scope=col>fch_147L_291V</th><th scope=col>fch_147L_291WG</th><th scope=col>fch_147V_147WG</th><th scope=col>fch_147V_165L</th><th scope=col>...</th><th scope=col>fch_165V_165WG</th><th scope=col>fch_165V_291L</th><th scope=col>fch_165V_291V</th><th scope=col>fch_165V_291WG</th><th scope=col>fch_165WG_291L</th><th scope=col>fch_165WG_291V</th><th scope=col>fch_165WG_291WG</th><th scope=col>fch_291L_291V</th><th scope=col>fch_291L_291WG</th><th scope=col>fch_291V_291WG</th></tr>\n",
       "\t<tr><th></th><th scope=col>&lt;chr&gt;</th><th scope=col>&lt;chr&gt;</th><th scope=col>&lt;chr&gt;</th><th scope=col>&lt;chr&gt;</th><th scope=col>&lt;chr&gt;</th><th scope=col>&lt;chr&gt;</th><th scope=col>&lt;chr&gt;</th><th scope=col>&lt;chr&gt;</th><th scope=col>&lt;chr&gt;</th><th scope=col>&lt;chr&gt;</th><th scope=col>...</th><th scope=col>&lt;chr&gt;</th><th scope=col>&lt;chr&gt;</th><th scope=col>&lt;chr&gt;</th><th scope=col>&lt;chr&gt;</th><th scope=col>&lt;chr&gt;</th><th scope=col>&lt;chr&gt;</th><th scope=col>&lt;chr&gt;</th><th scope=col>&lt;chr&gt;</th><th scope=col>&lt;chr&gt;</th><th scope=col>&lt;chr&gt;</th></tr>\n",
       "</thead>\n",
       "<tbody>\n",
       "\t<tr><th scope=row>1</th><td>X256.2261_3.39_3941</td><td>X348.1756_0.4_5032 </td><td>X564.304_2.81_9730 </td><td>X276.1584_2.95_9190</td><td>X395.3142_3.19_4506</td><td>X268.1875_2.68_8782</td><td>X268.1875_2.68_8782</td><td>X268.1875_2.68_8782</td><td>X185.9595_0.25_1537</td><td>X445.3296_3.2_3195 </td><td>...</td><td>X395.3142_3.19_4506</td><td>X268.1875_2.68_8782</td><td>X268.1875_2.68_8782</td><td>X268.1875_2.68_8782</td><td>X268.1875_2.68_8782</td><td>X268.1875_2.68_8782</td><td>X268.1875_2.68_8782</td><td>X309.6628_3_9216   </td><td>X185.9595_0.25_1537</td><td>X185.9595_0.25_1537</td></tr>\n",
       "\t<tr><th scope=row>2</th><td>X181.1581_3.28_3113</td><td>X256.2261_3.39_3941</td><td>X309.6628_3_9216   </td><td>X477.3925_3.41_3134</td><td>X393.2991_3.16_2860</td><td>X254.2105_3.39_4624</td><td>X254.2105_3.39_4624</td><td>X254.2105_3.39_4624</td><td>X673.5249_3.3_9841 </td><td>X564.304_2.81_9730 </td><td>...</td><td>X393.2991_3.16_2860</td><td>X673.5249_3.3_9841 </td><td>X673.5249_3.3_9841 </td><td>X185.9595_0.25_1537</td><td>X673.5249_3.3_9841 </td><td>X673.5249_3.3_9841 </td><td>X185.9595_0.25_1537</td><td>X500.2758_2.81_7384</td><td>X309.6628_3_9216   </td><td>X395.3142_3.19_4506</td></tr>\n",
       "\t<tr><th scope=row>3</th><td>X657.2011_2.71_8426</td><td>X309.6628_3_9216   </td><td>X732.5512_3.71_9851</td><td>X142.9479_0.3_6723 </td><td>X309.6628_3_9216   </td><td>X348.1756_0.4_5032 </td><td>X256.2261_3.39_3941</td><td>X256.2261_3.39_3941</td><td>X348.1756_0.4_5032 </td><td>X395.3142_3.19_4506</td><td>...</td><td>X309.6628_3_9216   </td><td>X445.3296_3.2_3195 </td><td>X254.2105_3.39_4624</td><td>X673.5249_3.3_9841 </td><td>X445.3296_3.2_3195 </td><td>X254.2105_3.39_4624</td><td>X673.5249_3.3_9841 </td><td>X778.5329_3.62_8278</td><td>X421.3298_3.28_3222</td><td>X393.2991_3.16_2860</td></tr>\n",
       "\t<tr><th scope=row>4</th><td>X447.3453_3.29_3028</td><td>X181.1581_3.28_3113</td><td>X419.3503_3.41_3241</td><td>X123.0553_0.3_4171 </td><td>X421.3298_3.28_3222</td><td>X256.2261_3.39_3941</td><td>X309.6628_3_9216   </td><td>X309.6628_3_9216   </td><td>X395.3142_3.19_4506</td><td>X393.2991_3.16_2860</td><td>...</td><td>X421.3298_3.28_3222</td><td>X254.2105_3.39_4624</td><td>X256.2261_3.39_3941</td><td>X254.2105_3.39_4624</td><td>X254.2105_3.39_4624</td><td>X564.304_2.81_9730 </td><td>X254.2105_3.39_4624</td><td>X445.3296_3.2_3195 </td><td>X395.2756_3.01_9810</td><td>X421.3298_3.28_3222</td></tr>\n",
       "\t<tr><th scope=row>5</th><td>X142.9479_0.3_6723 </td><td>X590.3197_2.86_9649</td><td>X369.1813_2.93_9633</td><td>X732.5512_3.71_9851</td><td>X395.2756_3.01_9810</td><td>X181.1581_3.28_3113</td><td>X181.1581_3.28_3113</td><td>X181.1581_3.28_3113</td><td>X256.2261_3.39_3941</td><td>X309.6628_3_9216   </td><td>...</td><td>X320.1664_3_8043   </td><td>X348.1756_0.4_5032 </td><td>X309.6628_3_9216   </td><td>X395.3142_3.19_4506</td><td>X348.1756_0.4_5032 </td><td>X256.2261_3.39_3941</td><td>X256.2261_3.39_3941</td><td>X348.1756_0.4_5032 </td><td>X451.3773_3.42_7996</td><td>X320.1664_3_8043   </td></tr>\n",
       "\t<tr><th scope=row>6</th><td>X123.0553_0.3_4171 </td><td>X455.3329_3.21_9071</td><td>X185.9595_0.25_1537</td><td>X419.3503_3.41_3241</td><td>X276.1584_2.95_9190</td><td>X500.2758_2.81_7384</td><td>X455.3329_3.21_9071</td><td>X421.3298_3.28_3222</td><td>X393.2991_3.16_2860</td><td>X395.2756_3.01_9810</td><td>...</td><td>X395.2756_3.01_9810</td><td>X395.3142_3.19_4506</td><td>X181.1581_3.28_3113</td><td>X256.2261_3.39_3941</td><td>X564.304_2.81_9730 </td><td>X309.6628_3_9216   </td><td>X309.6628_3_9216   </td><td>X395.3142_3.19_4506</td><td>X331.6742_2.99_8022</td><td>X395.2756_3.01_9810</td></tr>\n",
       "</tbody>\n",
       "</table>\n"
      ],
      "text/latex": [
       "A data.frame: 6 × 36\n",
       "\\begin{tabular}{r|lllllllllllllllllllll}\n",
       "  & fch\\_147L\\_147V & fch\\_147L\\_147WG & fch\\_147L\\_165L & fch\\_147L\\_165V & fch\\_147L\\_165WG & fch\\_147L\\_291L & fch\\_147L\\_291V & fch\\_147L\\_291WG & fch\\_147V\\_147WG & fch\\_147V\\_165L & ... & fch\\_165V\\_165WG & fch\\_165V\\_291L & fch\\_165V\\_291V & fch\\_165V\\_291WG & fch\\_165WG\\_291L & fch\\_165WG\\_291V & fch\\_165WG\\_291WG & fch\\_291L\\_291V & fch\\_291L\\_291WG & fch\\_291V\\_291WG\\\\\n",
       "  & <chr> & <chr> & <chr> & <chr> & <chr> & <chr> & <chr> & <chr> & <chr> & <chr> & ... & <chr> & <chr> & <chr> & <chr> & <chr> & <chr> & <chr> & <chr> & <chr> & <chr>\\\\\n",
       "\\hline\n",
       "\t1 & X256.2261\\_3.39\\_3941 & X348.1756\\_0.4\\_5032  & X564.304\\_2.81\\_9730  & X276.1584\\_2.95\\_9190 & X395.3142\\_3.19\\_4506 & X268.1875\\_2.68\\_8782 & X268.1875\\_2.68\\_8782 & X268.1875\\_2.68\\_8782 & X185.9595\\_0.25\\_1537 & X445.3296\\_3.2\\_3195  & ... & X395.3142\\_3.19\\_4506 & X268.1875\\_2.68\\_8782 & X268.1875\\_2.68\\_8782 & X268.1875\\_2.68\\_8782 & X268.1875\\_2.68\\_8782 & X268.1875\\_2.68\\_8782 & X268.1875\\_2.68\\_8782 & X309.6628\\_3\\_9216    & X185.9595\\_0.25\\_1537 & X185.9595\\_0.25\\_1537\\\\\n",
       "\t2 & X181.1581\\_3.28\\_3113 & X256.2261\\_3.39\\_3941 & X309.6628\\_3\\_9216    & X477.3925\\_3.41\\_3134 & X393.2991\\_3.16\\_2860 & X254.2105\\_3.39\\_4624 & X254.2105\\_3.39\\_4624 & X254.2105\\_3.39\\_4624 & X673.5249\\_3.3\\_9841  & X564.304\\_2.81\\_9730  & ... & X393.2991\\_3.16\\_2860 & X673.5249\\_3.3\\_9841  & X673.5249\\_3.3\\_9841  & X185.9595\\_0.25\\_1537 & X673.5249\\_3.3\\_9841  & X673.5249\\_3.3\\_9841  & X185.9595\\_0.25\\_1537 & X500.2758\\_2.81\\_7384 & X309.6628\\_3\\_9216    & X395.3142\\_3.19\\_4506\\\\\n",
       "\t3 & X657.2011\\_2.71\\_8426 & X309.6628\\_3\\_9216    & X732.5512\\_3.71\\_9851 & X142.9479\\_0.3\\_6723  & X309.6628\\_3\\_9216    & X348.1756\\_0.4\\_5032  & X256.2261\\_3.39\\_3941 & X256.2261\\_3.39\\_3941 & X348.1756\\_0.4\\_5032  & X395.3142\\_3.19\\_4506 & ... & X309.6628\\_3\\_9216    & X445.3296\\_3.2\\_3195  & X254.2105\\_3.39\\_4624 & X673.5249\\_3.3\\_9841  & X445.3296\\_3.2\\_3195  & X254.2105\\_3.39\\_4624 & X673.5249\\_3.3\\_9841  & X778.5329\\_3.62\\_8278 & X421.3298\\_3.28\\_3222 & X393.2991\\_3.16\\_2860\\\\\n",
       "\t4 & X447.3453\\_3.29\\_3028 & X181.1581\\_3.28\\_3113 & X419.3503\\_3.41\\_3241 & X123.0553\\_0.3\\_4171  & X421.3298\\_3.28\\_3222 & X256.2261\\_3.39\\_3941 & X309.6628\\_3\\_9216    & X309.6628\\_3\\_9216    & X395.3142\\_3.19\\_4506 & X393.2991\\_3.16\\_2860 & ... & X421.3298\\_3.28\\_3222 & X254.2105\\_3.39\\_4624 & X256.2261\\_3.39\\_3941 & X254.2105\\_3.39\\_4624 & X254.2105\\_3.39\\_4624 & X564.304\\_2.81\\_9730  & X254.2105\\_3.39\\_4624 & X445.3296\\_3.2\\_3195  & X395.2756\\_3.01\\_9810 & X421.3298\\_3.28\\_3222\\\\\n",
       "\t5 & X142.9479\\_0.3\\_6723  & X590.3197\\_2.86\\_9649 & X369.1813\\_2.93\\_9633 & X732.5512\\_3.71\\_9851 & X395.2756\\_3.01\\_9810 & X181.1581\\_3.28\\_3113 & X181.1581\\_3.28\\_3113 & X181.1581\\_3.28\\_3113 & X256.2261\\_3.39\\_3941 & X309.6628\\_3\\_9216    & ... & X320.1664\\_3\\_8043    & X348.1756\\_0.4\\_5032  & X309.6628\\_3\\_9216    & X395.3142\\_3.19\\_4506 & X348.1756\\_0.4\\_5032  & X256.2261\\_3.39\\_3941 & X256.2261\\_3.39\\_3941 & X348.1756\\_0.4\\_5032  & X451.3773\\_3.42\\_7996 & X320.1664\\_3\\_8043   \\\\\n",
       "\t6 & X123.0553\\_0.3\\_4171  & X455.3329\\_3.21\\_9071 & X185.9595\\_0.25\\_1537 & X419.3503\\_3.41\\_3241 & X276.1584\\_2.95\\_9190 & X500.2758\\_2.81\\_7384 & X455.3329\\_3.21\\_9071 & X421.3298\\_3.28\\_3222 & X393.2991\\_3.16\\_2860 & X395.2756\\_3.01\\_9810 & ... & X395.2756\\_3.01\\_9810 & X395.3142\\_3.19\\_4506 & X181.1581\\_3.28\\_3113 & X256.2261\\_3.39\\_3941 & X564.304\\_2.81\\_9730  & X309.6628\\_3\\_9216    & X309.6628\\_3\\_9216    & X395.3142\\_3.19\\_4506 & X331.6742\\_2.99\\_8022 & X395.2756\\_3.01\\_9810\\\\\n",
       "\\end{tabular}\n"
      ],
      "text/markdown": [
       "\n",
       "A data.frame: 6 × 36\n",
       "\n",
       "| <!--/--> | fch_147L_147V &lt;chr&gt; | fch_147L_147WG &lt;chr&gt; | fch_147L_165L &lt;chr&gt; | fch_147L_165V &lt;chr&gt; | fch_147L_165WG &lt;chr&gt; | fch_147L_291L &lt;chr&gt; | fch_147L_291V &lt;chr&gt; | fch_147L_291WG &lt;chr&gt; | fch_147V_147WG &lt;chr&gt; | fch_147V_165L &lt;chr&gt; | ... ... | fch_165V_165WG &lt;chr&gt; | fch_165V_291L &lt;chr&gt; | fch_165V_291V &lt;chr&gt; | fch_165V_291WG &lt;chr&gt; | fch_165WG_291L &lt;chr&gt; | fch_165WG_291V &lt;chr&gt; | fch_165WG_291WG &lt;chr&gt; | fch_291L_291V &lt;chr&gt; | fch_291L_291WG &lt;chr&gt; | fch_291V_291WG &lt;chr&gt; |\n",
       "|---|---|---|---|---|---|---|---|---|---|---|---|---|---|---|---|---|---|---|---|---|---|\n",
       "| 1 | X256.2261_3.39_3941 | X348.1756_0.4_5032  | X564.304_2.81_9730  | X276.1584_2.95_9190 | X395.3142_3.19_4506 | X268.1875_2.68_8782 | X268.1875_2.68_8782 | X268.1875_2.68_8782 | X185.9595_0.25_1537 | X445.3296_3.2_3195  | ... | X395.3142_3.19_4506 | X268.1875_2.68_8782 | X268.1875_2.68_8782 | X268.1875_2.68_8782 | X268.1875_2.68_8782 | X268.1875_2.68_8782 | X268.1875_2.68_8782 | X309.6628_3_9216    | X185.9595_0.25_1537 | X185.9595_0.25_1537 |\n",
       "| 2 | X181.1581_3.28_3113 | X256.2261_3.39_3941 | X309.6628_3_9216    | X477.3925_3.41_3134 | X393.2991_3.16_2860 | X254.2105_3.39_4624 | X254.2105_3.39_4624 | X254.2105_3.39_4624 | X673.5249_3.3_9841  | X564.304_2.81_9730  | ... | X393.2991_3.16_2860 | X673.5249_3.3_9841  | X673.5249_3.3_9841  | X185.9595_0.25_1537 | X673.5249_3.3_9841  | X673.5249_3.3_9841  | X185.9595_0.25_1537 | X500.2758_2.81_7384 | X309.6628_3_9216    | X395.3142_3.19_4506 |\n",
       "| 3 | X657.2011_2.71_8426 | X309.6628_3_9216    | X732.5512_3.71_9851 | X142.9479_0.3_6723  | X309.6628_3_9216    | X348.1756_0.4_5032  | X256.2261_3.39_3941 | X256.2261_3.39_3941 | X348.1756_0.4_5032  | X395.3142_3.19_4506 | ... | X309.6628_3_9216    | X445.3296_3.2_3195  | X254.2105_3.39_4624 | X673.5249_3.3_9841  | X445.3296_3.2_3195  | X254.2105_3.39_4624 | X673.5249_3.3_9841  | X778.5329_3.62_8278 | X421.3298_3.28_3222 | X393.2991_3.16_2860 |\n",
       "| 4 | X447.3453_3.29_3028 | X181.1581_3.28_3113 | X419.3503_3.41_3241 | X123.0553_0.3_4171  | X421.3298_3.28_3222 | X256.2261_3.39_3941 | X309.6628_3_9216    | X309.6628_3_9216    | X395.3142_3.19_4506 | X393.2991_3.16_2860 | ... | X421.3298_3.28_3222 | X254.2105_3.39_4624 | X256.2261_3.39_3941 | X254.2105_3.39_4624 | X254.2105_3.39_4624 | X564.304_2.81_9730  | X254.2105_3.39_4624 | X445.3296_3.2_3195  | X395.2756_3.01_9810 | X421.3298_3.28_3222 |\n",
       "| 5 | X142.9479_0.3_6723  | X590.3197_2.86_9649 | X369.1813_2.93_9633 | X732.5512_3.71_9851 | X395.2756_3.01_9810 | X181.1581_3.28_3113 | X181.1581_3.28_3113 | X181.1581_3.28_3113 | X256.2261_3.39_3941 | X309.6628_3_9216    | ... | X320.1664_3_8043    | X348.1756_0.4_5032  | X309.6628_3_9216    | X395.3142_3.19_4506 | X348.1756_0.4_5032  | X256.2261_3.39_3941 | X256.2261_3.39_3941 | X348.1756_0.4_5032  | X451.3773_3.42_7996 | X320.1664_3_8043    |\n",
       "| 6 | X123.0553_0.3_4171  | X455.3329_3.21_9071 | X185.9595_0.25_1537 | X419.3503_3.41_3241 | X276.1584_2.95_9190 | X500.2758_2.81_7384 | X455.3329_3.21_9071 | X421.3298_3.28_3222 | X393.2991_3.16_2860 | X395.2756_3.01_9810 | ... | X395.2756_3.01_9810 | X395.3142_3.19_4506 | X181.1581_3.28_3113 | X256.2261_3.39_3941 | X564.304_2.81_9730  | X309.6628_3_9216    | X309.6628_3_9216    | X395.3142_3.19_4506 | X331.6742_2.99_8022 | X395.2756_3.01_9810 |\n",
       "\n"
      ],
      "text/plain": [
       "  fch_147L_147V       fch_147L_147WG      fch_147L_165L      \n",
       "1 X256.2261_3.39_3941 X348.1756_0.4_5032  X564.304_2.81_9730 \n",
       "2 X181.1581_3.28_3113 X256.2261_3.39_3941 X309.6628_3_9216   \n",
       "3 X657.2011_2.71_8426 X309.6628_3_9216    X732.5512_3.71_9851\n",
       "4 X447.3453_3.29_3028 X181.1581_3.28_3113 X419.3503_3.41_3241\n",
       "5 X142.9479_0.3_6723  X590.3197_2.86_9649 X369.1813_2.93_9633\n",
       "6 X123.0553_0.3_4171  X455.3329_3.21_9071 X185.9595_0.25_1537\n",
       "  fch_147L_165V       fch_147L_165WG      fch_147L_291L      \n",
       "1 X276.1584_2.95_9190 X395.3142_3.19_4506 X268.1875_2.68_8782\n",
       "2 X477.3925_3.41_3134 X393.2991_3.16_2860 X254.2105_3.39_4624\n",
       "3 X142.9479_0.3_6723  X309.6628_3_9216    X348.1756_0.4_5032 \n",
       "4 X123.0553_0.3_4171  X421.3298_3.28_3222 X256.2261_3.39_3941\n",
       "5 X732.5512_3.71_9851 X395.2756_3.01_9810 X181.1581_3.28_3113\n",
       "6 X419.3503_3.41_3241 X276.1584_2.95_9190 X500.2758_2.81_7384\n",
       "  fch_147L_291V       fch_147L_291WG      fch_147V_147WG     \n",
       "1 X268.1875_2.68_8782 X268.1875_2.68_8782 X185.9595_0.25_1537\n",
       "2 X254.2105_3.39_4624 X254.2105_3.39_4624 X673.5249_3.3_9841 \n",
       "3 X256.2261_3.39_3941 X256.2261_3.39_3941 X348.1756_0.4_5032 \n",
       "4 X309.6628_3_9216    X309.6628_3_9216    X395.3142_3.19_4506\n",
       "5 X181.1581_3.28_3113 X181.1581_3.28_3113 X256.2261_3.39_3941\n",
       "6 X455.3329_3.21_9071 X421.3298_3.28_3222 X393.2991_3.16_2860\n",
       "  fch_147V_165L       ... fch_165V_165WG      fch_165V_291L      \n",
       "1 X445.3296_3.2_3195  ... X395.3142_3.19_4506 X268.1875_2.68_8782\n",
       "2 X564.304_2.81_9730  ... X393.2991_3.16_2860 X673.5249_3.3_9841 \n",
       "3 X395.3142_3.19_4506 ... X309.6628_3_9216    X445.3296_3.2_3195 \n",
       "4 X393.2991_3.16_2860 ... X421.3298_3.28_3222 X254.2105_3.39_4624\n",
       "5 X309.6628_3_9216    ... X320.1664_3_8043    X348.1756_0.4_5032 \n",
       "6 X395.2756_3.01_9810 ... X395.2756_3.01_9810 X395.3142_3.19_4506\n",
       "  fch_165V_291V       fch_165V_291WG      fch_165WG_291L     \n",
       "1 X268.1875_2.68_8782 X268.1875_2.68_8782 X268.1875_2.68_8782\n",
       "2 X673.5249_3.3_9841  X185.9595_0.25_1537 X673.5249_3.3_9841 \n",
       "3 X254.2105_3.39_4624 X673.5249_3.3_9841  X445.3296_3.2_3195 \n",
       "4 X256.2261_3.39_3941 X254.2105_3.39_4624 X254.2105_3.39_4624\n",
       "5 X309.6628_3_9216    X395.3142_3.19_4506 X348.1756_0.4_5032 \n",
       "6 X181.1581_3.28_3113 X256.2261_3.39_3941 X564.304_2.81_9730 \n",
       "  fch_165WG_291V      fch_165WG_291WG     fch_291L_291V      \n",
       "1 X268.1875_2.68_8782 X268.1875_2.68_8782 X309.6628_3_9216   \n",
       "2 X673.5249_3.3_9841  X185.9595_0.25_1537 X500.2758_2.81_7384\n",
       "3 X254.2105_3.39_4624 X673.5249_3.3_9841  X778.5329_3.62_8278\n",
       "4 X564.304_2.81_9730  X254.2105_3.39_4624 X445.3296_3.2_3195 \n",
       "5 X256.2261_3.39_3941 X256.2261_3.39_3941 X348.1756_0.4_5032 \n",
       "6 X309.6628_3_9216    X309.6628_3_9216    X395.3142_3.19_4506\n",
       "  fch_291L_291WG      fch_291V_291WG     \n",
       "1 X185.9595_0.25_1537 X185.9595_0.25_1537\n",
       "2 X309.6628_3_9216    X395.3142_3.19_4506\n",
       "3 X421.3298_3.28_3222 X393.2991_3.16_2860\n",
       "4 X395.2756_3.01_9810 X421.3298_3.28_3222\n",
       "5 X451.3773_3.42_7996 X320.1664_3_8043   \n",
       "6 X331.6742_2.99_8022 X395.2756_3.01_9810"
      ]
     },
     "metadata": {},
     "output_type": "display_data"
    },
    {
     "data": {
      "text/html": [
       "<style>\n",
       ".list-inline {list-style: none; margin:0; padding: 0}\n",
       ".list-inline>li {display: inline-block}\n",
       ".list-inline>li:not(:last-child)::after {content: \"\\00b7\"; padding: 0 .5ex}\n",
       "</style>\n",
       "<ol class=list-inline><li>62</li><li>36</li></ol>\n"
      ],
      "text/latex": [
       "\\begin{enumerate*}\n",
       "\\item 62\n",
       "\\item 36\n",
       "\\end{enumerate*}\n"
      ],
      "text/markdown": [
       "1. 62\n",
       "2. 36\n",
       "\n",
       "\n"
      ],
      "text/plain": [
       "[1] 62 36"
      ]
     },
     "metadata": {},
     "output_type": "display_data"
    }
   ],
   "source": [
    "###Now reading in our other file, where columns represent sample groups\n",
    "###(36 total for this analysis) and metabolite features present in\n",
    "###that group are listed as rows. Each column will have different lengths\n",
    "###and different present metabolites (from our list of 146 in the previous\n",
    "###file).\n",
    "file <- read.csv(\"Serum_KW_Output_Filtered_for_Upset_Plot.csv\")\n",
    "head(file)\n",
    "dim(file)"
   ]
  },
  {
   "cell_type": "code",
   "execution_count": 6,
   "id": "1d1b8529",
   "metadata": {},
   "outputs": [
    {
     "data": {
      "text/html": [
       "62"
      ],
      "text/latex": [
       "62"
      ],
      "text/markdown": [
       "62"
      ],
      "text/plain": [
       "[1] 62"
      ]
     },
     "metadata": {},
     "output_type": "display_data"
    }
   ],
   "source": [
    "###To format the file for our colored Upset plots, we need to iteratively\n",
    "###search through each column and save it as different objects.\n",
    "###Starting with the first sample group (column 1).\n",
    "names.1 <- file[,1]\n",
    "length(names.1)"
   ]
  },
  {
   "cell_type": "code",
   "execution_count": 7,
   "id": "e308c73f",
   "metadata": {},
   "outputs": [
    {
     "data": {
      "text/html": [
       "<ol>\n",
       "\t<li>'X272.2573_2.71_552'</li>\n",
       "\t<li>'X518.3225_2.82_1277'</li>\n",
       "\t<li>'X375.2878_2.83_1371'</li>\n",
       "\t<li>'X247.1282_0.5_1402'</li>\n",
       "\t<li>'X204.1228_0.26_1443'</li>\n",
       "\t<li>'X185.9595_0.25_1537'</li>\n",
       "</ol>\n"
      ],
      "text/latex": [
       "\\begin{enumerate}\n",
       "\\item 'X272.2573\\_2.71\\_552'\n",
       "\\item 'X518.3225\\_2.82\\_1277'\n",
       "\\item 'X375.2878\\_2.83\\_1371'\n",
       "\\item 'X247.1282\\_0.5\\_1402'\n",
       "\\item 'X204.1228\\_0.26\\_1443'\n",
       "\\item 'X185.9595\\_0.25\\_1537'\n",
       "\\end{enumerate}\n"
      ],
      "text/markdown": [
       "1. 'X272.2573_2.71_552'\n",
       "2. 'X518.3225_2.82_1277'\n",
       "3. 'X375.2878_2.83_1371'\n",
       "4. 'X247.1282_0.5_1402'\n",
       "5. 'X204.1228_0.26_1443'\n",
       "6. 'X185.9595_0.25_1537'\n",
       "\n",
       "\n"
      ],
      "text/plain": [
       "[[1]]\n",
       "[1] \"X272.2573_2.71_552\"\n",
       "\n",
       "[[2]]\n",
       "[1] \"X518.3225_2.82_1277\"\n",
       "\n",
       "[[3]]\n",
       "[1] \"X375.2878_2.83_1371\"\n",
       "\n",
       "[[4]]\n",
       "[1] \"X247.1282_0.5_1402\"\n",
       "\n",
       "[[5]]\n",
       "[1] \"X204.1228_0.26_1443\"\n",
       "\n",
       "[[6]]\n",
       "[1] \"X185.9595_0.25_1537\"\n"
      ]
     },
     "metadata": {},
     "output_type": "display_data"
    }
   ],
   "source": [
    "###Now we have the metabolites present in column 1. To correctly search\n",
    "###and assign each one to their place from our original column of\n",
    "###metabolite IDs (\"feats\"), we need to make this into a list vector.\n",
    "f.list <- as.list(feats)\n",
    "head(f.list)"
   ]
  },
  {
   "cell_type": "code",
   "execution_count": 8,
   "id": "42421809",
   "metadata": {},
   "outputs": [],
   "source": [
    "###With the metabolite IDs formatted as a list, we can search for\n",
    "###the metabolites present in each column for their placement in\n",
    "###the list. This will perform \"which\" function comparisons between the\n",
    "###provided objects across all row instances. \n",
    "ans.1 <- sapply(f.list, function(x) which(x %in% names.1))"
   ]
  },
  {
   "cell_type": "code",
   "execution_count": 9,
   "id": "607e890b",
   "metadata": {},
   "outputs": [
    {
     "data": {
      "text/html": [
       "<ol>\n",
       "\t<li></li>\n",
       "\t<li></li>\n",
       "\t<li></li>\n",
       "\t<li></li>\n",
       "\t<li></li>\n",
       "\t<li>1</li>\n",
       "</ol>\n"
      ],
      "text/latex": [
       "\\begin{enumerate}\n",
       "\\item \n",
       "\\item \n",
       "\\item \n",
       "\\item \n",
       "\\item \n",
       "\\item 1\n",
       "\\end{enumerate}\n"
      ],
      "text/markdown": [
       "1. \n",
       "2. \n",
       "3. \n",
       "4. \n",
       "5. \n",
       "6. 1\n",
       "\n",
       "\n"
      ],
      "text/plain": [
       "[[1]]\n",
       "integer(0)\n",
       "\n",
       "[[2]]\n",
       "integer(0)\n",
       "\n",
       "[[3]]\n",
       "integer(0)\n",
       "\n",
       "[[4]]\n",
       "integer(0)\n",
       "\n",
       "[[5]]\n",
       "integer(0)\n",
       "\n",
       "[[6]]\n",
       "[1] 1\n"
      ]
     },
     "metadata": {},
     "output_type": "display_data"
    }
   ],
   "source": [
    "###Examining the output helps confirm the command worked. Absent/null/NA\n",
    "###cells represent binary instances where the metabolite was not present \n",
    "###in the sample group. Cells with \"1\" represent metabolites that were \n",
    "###present. For example, [[1]] is metabolite feature 'X272.2573_2.71_552',\n",
    "###which was not in our group. However, metabolite feature 6\n",
    "###('X185.9595_0.25_1537' was found in our sample group.\n",
    "head(ans.1)"
   ]
  },
  {
   "cell_type": "code",
   "execution_count": 10,
   "id": "9f9e9c15",
   "metadata": {},
   "outputs": [],
   "source": [
    "###Saving the output as a csv\n",
    "###If your dataset is large, R might not display the full output. You\n",
    "###can adjust this with: options(max.print=10000)\n",
    "\n",
    "options(max.print=10000)\n",
    "capture.output(ans.1, file=\"fch147L_147V.csv\")"
   ]
  },
  {
   "cell_type": "code",
   "execution_count": 11,
   "id": "e425e987",
   "metadata": {},
   "outputs": [],
   "source": [
    "###Once this is done, you can open the output in Excel. Delete blank\n",
    "###rows introduced by the list object and remove the list headers (e.g.,\n",
    "###[[1]], [[2]], etc.) so only the null/present (1) cells are left. Once\n",
    "###done, replace the \"1\" values with \"Yes\" to represent metabolite presence.\n",
    "\n",
    "\n",
    "###The number of rows/length should match the original annotation features\n",
    "###list. Once this is all done, you can merge (or copy/paste) with \n",
    "###the metabolite feature table so now it shows whether each listed metabolite\n",
    "###feature was present in your first sample group."
   ]
  },
  {
   "cell_type": "code",
   "execution_count": 12,
   "id": "b3317398",
   "metadata": {},
   "outputs": [
    {
     "data": {
      "text/html": [
       "<style>\n",
       ".list-inline {list-style: none; margin:0; padding: 0}\n",
       ".list-inline>li {display: inline-block}\n",
       ".list-inline>li:not(:last-child)::after {content: \"\\00b7\"; padding: 0 .5ex}\n",
       "</style>\n",
       "<ol class=list-inline><li>'X348.1756_0.4_5032'</li><li>'X256.2261_3.39_3941'</li><li>'X309.6628_3_9216'</li><li>'X181.1581_3.28_3113'</li><li>'X590.3197_2.86_9649'</li><li>'X455.3329_3.21_9071'</li></ol>\n"
      ],
      "text/latex": [
       "\\begin{enumerate*}\n",
       "\\item 'X348.1756\\_0.4\\_5032'\n",
       "\\item 'X256.2261\\_3.39\\_3941'\n",
       "\\item 'X309.6628\\_3\\_9216'\n",
       "\\item 'X181.1581\\_3.28\\_3113'\n",
       "\\item 'X590.3197\\_2.86\\_9649'\n",
       "\\item 'X455.3329\\_3.21\\_9071'\n",
       "\\end{enumerate*}\n"
      ],
      "text/markdown": [
       "1. 'X348.1756_0.4_5032'\n",
       "2. 'X256.2261_3.39_3941'\n",
       "3. 'X309.6628_3_9216'\n",
       "4. 'X181.1581_3.28_3113'\n",
       "5. 'X590.3197_2.86_9649'\n",
       "6. 'X455.3329_3.21_9071'\n",
       "\n",
       "\n"
      ],
      "text/plain": [
       "[1] \"X348.1756_0.4_5032\"  \"X256.2261_3.39_3941\" \"X309.6628_3_9216\"   \n",
       "[4] \"X181.1581_3.28_3113\" \"X590.3197_2.86_9649\" \"X455.3329_3.21_9071\""
      ]
     },
     "metadata": {},
     "output_type": "display_data"
    }
   ],
   "source": [
    "###Again, we need to do this for each sample group. For simplicity,\n",
    "###I created the \"names\" and \"ans\" objects for each column/sample group\n",
    "###by naming them after their respective column (column 1 was names.1 and\n",
    "###ans.2, column 2 is names.2 and ans.2).\n",
    "names.2 <- file[,2]\n",
    "head(names.2)"
   ]
  },
  {
   "cell_type": "code",
   "execution_count": 13,
   "id": "7829f89b",
   "metadata": {},
   "outputs": [
    {
     "data": {
      "text/html": [
       "<ol>\n",
       "\t<li></li>\n",
       "\t<li></li>\n",
       "\t<li></li>\n",
       "\t<li></li>\n",
       "\t<li></li>\n",
       "\t<li></li>\n",
       "</ol>\n"
      ],
      "text/latex": [
       "\\begin{enumerate}\n",
       "\\item \n",
       "\\item \n",
       "\\item \n",
       "\\item \n",
       "\\item \n",
       "\\item \n",
       "\\end{enumerate}\n"
      ],
      "text/markdown": [
       "1. \n",
       "2. \n",
       "3. \n",
       "4. \n",
       "5. \n",
       "6. \n",
       "\n",
       "\n"
      ],
      "text/plain": [
       "[[1]]\n",
       "integer(0)\n",
       "\n",
       "[[2]]\n",
       "integer(0)\n",
       "\n",
       "[[3]]\n",
       "integer(0)\n",
       "\n",
       "[[4]]\n",
       "integer(0)\n",
       "\n",
       "[[5]]\n",
       "integer(0)\n",
       "\n",
       "[[6]]\n",
       "integer(0)\n"
      ]
     },
     "metadata": {},
     "output_type": "display_data"
    }
   ],
   "source": [
    "###Repeating the same steps for column 2\n",
    "ans.2 <- sapply(f.list, function(x) which (x %in% names.2))\n",
    "head(ans.2)"
   ]
  },
  {
   "cell_type": "code",
   "execution_count": 14,
   "id": "e0df4655",
   "metadata": {},
   "outputs": [],
   "source": [
    "###Saving this output. Repeat the earlier Excel steps (remove blanks,\n",
    "###remove list bracket headers, replace \"1\"s with \"Yes\"), then add to\n",
    "###the metabolite feature table. \n",
    "capture.output(ans.2, file=\"fch147L_147WG.csv\")"
   ]
  },
  {
   "cell_type": "code",
   "execution_count": null,
   "id": "d626921c",
   "metadata": {},
   "outputs": [],
   "source": [
    "###Repeat these steps for all sample groups. Once done, the file should\n",
    "###be formatted for creating colored Upset plots."
   ]
  }
 ],
 "metadata": {
  "kernelspec": {
   "display_name": "R",
   "language": "R",
   "name": "ir"
  },
  "language_info": {
   "codemirror_mode": "r",
   "file_extension": ".r",
   "mimetype": "text/x-r-source",
   "name": "R",
   "pygments_lexer": "r",
   "version": "4.0.4"
  }
 },
 "nbformat": 4,
 "nbformat_minor": 5
}
